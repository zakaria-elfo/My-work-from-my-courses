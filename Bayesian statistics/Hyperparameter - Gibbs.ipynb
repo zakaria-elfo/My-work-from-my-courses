{
 "cells": [
  {
   "cell_type": "markdown",
   "metadata": {},
   "source": [
    "# Estimation des hyperparamètres - Gibbs\n",
    "\n",
    "Dans ce notebook, on s'intéresse à un modèle simple\n",
    "$$y = Ax + b$$\n",
    "où $b$ est un bruit gaussien centré de matrice de covariance $\\sigma_b^2 I$, et $x$ un signal à reconstruire, suivant une loi normale centrée de matrice de covariance $I / \\tau$. Le paramètre $\\tau$ sera également estimé.\n"
   ]
  },
  {
   "cell_type": "code",
   "execution_count": 1,
   "metadata": {},
   "outputs": [],
   "source": [
    "import numpy as np\n",
    "import numpy.random as rand\n",
    "import matplotlib.pyplot as plt"
   ]
  },
  {
   "cell_type": "markdown",
   "metadata": {},
   "source": [
    "**Question 1** : On choisit d'imposer l'a priori que $\\tau$ suit une loi $\\Gamma$. Justifier ce choix."
   ]
  },
  {
   "cell_type": "markdown",
   "metadata": {},
   "source": [
    "**Question 2** : Écrire la vraisemblance $p(y | x)$, la loi a priori $p(x, \\tau)$ et la loi a posteriori $p(x, \\tau | y)$."
   ]
  },
  {
   "cell_type": "markdown",
   "metadata": {},
   "source": [
    "**Question 3** : Coder la fonction permettant de simuler des données."
   ]
  },
  {
   "cell_type": "code",
   "execution_count": 3,
   "metadata": {},
   "outputs": [],
   "source": [
    "def generate_data(A, sigma_n, alpha, beta):\n",
    "    \n",
    "    tau = rand.gamma(alpha, 1/beta)\n",
    "    \n",
    "    x = rand.multivariate_normal(np.zeros([A.shape[1]]), np.eye(A.shape[1]) / tau);\n",
    "    b = rand.multivariate_normal(np.zeros([A.shape[0]]), np.eye(A.shape[0]) * sigma_n);\n",
    "    y = A @ x + b\n",
    "    \n",
    "    return y, x, tau"
   ]
  },
  {
   "cell_type": "markdown",
   "metadata": {},
   "source": [
    "**Question 4** : Déterminer les lois $p(x|\\tau, y)$ et $p(\\tau | x, y)$ et implémenter l'échantilloneur de Gibbs."
   ]
  },
  {
   "cell_type": "markdown",
   "metadata": {},
   "source": [
    "((A\n",
    "?R\n",
    "−1\n",
    "b A + R\n",
    "−1\n",
    "x\n",
    ")\n",
    "−1A\n",
    "?R\n",
    "−1\n",
    "b\n",
    "y((A\n",
    "?R\n",
    "−1\n",
    "b A + R\n",
    "−1\n",
    "x\n",
    ")\n",
    "−1A\n",
    "?R\n",
    "−1\n",
    "b\n",
    "y"
   ]
  },
  {
   "cell_type": "code",
   "execution_count": 4,
   "metadata": {},
   "outputs": [],
   "source": [
    "def sample_tau(x, y, alpha, beta):\n",
    "    \n",
    "    alpha2 = alpha  + x.shape[0] / 2\n",
    "    beta2 = beta + sum(x**2) / 2\n",
    "    tau = rand.gamma(alpha2, 1/beta2)\n",
    "    return tau\n",
    "\n",
    "\n",
    "def sample_x(y, tau, A, sigma_n):\n",
    "    \n",
    "    Reap = np.linalg.inv(A.T @ A / sigma_n + tau * np.eye(A.shape[1]))\n",
    "    Xeap = Reap @ A.T @ y / sigma_n\n",
    "    \n",
    "    x = rand.multivariate_normal(Xeap, Reap);\n",
    "    \n",
    "    return x\n",
    "\n",
    "def gibbs(y, A, alpha, beta, sigma2, x0, tau0, q, L):\n",
    "\n",
    "    \n",
    "    Xsamples = np.zeros([x0.shape[0], L])\n",
    "    Tausamples = np.zeros([L])\n",
    "    \n",
    "    Xsamples[:, 0] = x0\n",
    "    Tausamples[0] = tau0\n",
    "    \n",
    "    for k in range(1,L):\n",
    "        if rand.rand(1) > q:\n",
    "            Xsamples[:, k] = sample_x(y, Tausamples[k-1], A, sigma_n)\n",
    "            Tausamples[k] = Tausamples[k-1]\n",
    "        else:\n",
    "            Tausamples[k] = sample_tau(Xsamples[:, k-1], y, alpha, beta)\n",
    "            \n",
    "            Xsamples[:, k] = Xsamples[:, k-1]\n",
    "    \n",
    "    return Xsamples, Tausamples"
   ]
  },
  {
   "cell_type": "markdown",
   "metadata": {},
   "source": [
    "**Question 5** : Donner l'estimation de $x$ en utilisant la valeur de $\\tau$ moyenne a priori ($\\alpha/ \\beta)$, et en utilisant la vrai valeur de $\\tau$. Comparer avec le résultat de l'estimation conjointe de $x$ et $\\tau$ en simulation un grand nombre de données. Optionnel : tester l'estimation conjointe avec des paramètres $\\alpha$ et $\\beta$ différents des paramètres utilisés pour générer les données."
   ]
  },
  {
   "cell_type": "code",
   "execution_count": 5,
   "metadata": {},
   "outputs": [],
   "source": [
    "N = 30;\n",
    "\n",
    "A = rand.randn(N, N)\n",
    "\n",
    "sigma_n = 0.1\n",
    "alpha = 0.5\n",
    "beta = 0.5\n",
    "y, x, tau = generate_data(A, sigma_n, alpha, beta)"
   ]
  },
  {
   "cell_type": "code",
   "execution_count": 6,
   "metadata": {},
   "outputs": [],
   "source": [
    "Ns = 10_000;\n",
    "\n",
    "R0 = np.linalg.inv(A.T @ A / sigma_n + (alpha/beta) * np.eye(A.shape[1]))\n",
    "\n",
    "y, x, tau = generate_data(A, sigma_n, alpha, beta)\n",
    "    \n",
    "XS, TS = gibbs(y, A, alpha, beta, sigma_n, np.zeros([N]), 1, 0.5, Ns)"
   ]
  },
  {
   "cell_type": "code",
   "execution_count": 9,
   "metadata": {},
   "outputs": [],
   "source": [
    "Xgibbs = np.mean(XS, axis=1)"
   ]
  },
  {
   "cell_type": "code",
   "execution_count": 10,
   "metadata": {},
   "outputs": [],
   "source": [
    "Roracle = np.linalg.inv(A.T @ A / sigma_n + tau * np.eye(A.shape[1]))\n",
    "Xoracle = Roracle@ A.T @ y / sigma_n\n",
    "\n",
    "Rtauap = np.linalg.inv(A.T @ A / sigma_n + (alpha/beta) * np.eye(A.shape[1]))\n",
    "Xtauap = Rtauap @ A.T @ y / sigma_n"
   ]
  },
  {
   "cell_type": "code",
   "execution_count": 11,
   "metadata": {},
   "outputs": [
    {
     "data": {
      "text/plain": [
       "<matplotlib.legend.Legend at 0x2b522e53b88>"
      ]
     },
     "execution_count": 11,
     "metadata": {},
     "output_type": "execute_result"
    },
    {
     "data": {
      "image/png": "[encoded data removed]",
      "text/plain": [
       "<Figure size 432x288 with 1 Axes>"
      ]
     },
     "metadata": {
      "needs_background": "light"
     },
     "output_type": "display_data"
    }
   ],
   "source": [
    "plt.plot(x, label =\"x\")\n",
    "plt.plot(Xgibbs, label=\"x gibbs\")\n",
    "plt.plot(Xoracle, label = \"x oracle\")\n",
    "plt.plot(Xtauap, label = \"x tau apriori\")\n",
    "plt.legend()"
   ]
  }
 ],
 "metadata": {
  "kernelspec": {
   "display_name": "Python 3",
   "language": "python",
   "name": "python3"
  },
  "language_info": {
   "codemirror_mode": {
    "name": "ipython",
    "version": 3
   },
   "file_extension": ".py",
   "mimetype": "text/x-python",
   "name": "python",
   "nbconvert_exporter": "python",
   "pygments_lexer": "ipython3",
   "version": "3.7.11"
  }
 },
 "nbformat": 4,
 "nbformat_minor": 4
}
