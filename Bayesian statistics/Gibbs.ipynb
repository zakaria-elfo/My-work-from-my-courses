{
 "cells": [
  {
   "attachments": {},
   "cell_type": "markdown",
   "metadata": {},
   "source": [
    "# Échantillonneur de Gibbs\n",
    "\n",
    "On applique l'échantillonneur de Gibbs dans un cas très simple de vecteurs gaussiens en dimension 2.\n",
    "\n",
    "Rappel : pour  générer des échantillons $\\mathbf x^j$ d'une loi $p(x_1, x_2, \\ldots, x_N)$, on itère des échantillonnages d'une variable, en laissant les autres constantes :\n",
    "* On choisit un indice $n$, aléatoirement ou de façon déterministe,\n",
    "* on génère un échantillon en recopiant les coefficients d'indices différents de $n$ ($x^{j+1}_k = x^j_k$), pour $k \\neq n$), et en tirant une nouvelle valeur $x^{j+1}_n$ suivant la loi conditionnelle $p(x_n | x_1  =x_1^j, \\ldots, x_{n-1}=x_{n-1}^j,x_{n+1}=x_{n+1}^j, \\ldots, x_N=x_{N}^j)$.\n",
    "\n",
    "Si c'est possible, on peut grouper des paramètres par blocs.\n",
    "\n",
    "On étudiera (de façon empirique) la convergence pour deux exemples de lois normales."
   ]
  },
  {
   "cell_type": "code",
   "execution_count": 1,
   "metadata": {},
   "outputs": [],
   "source": [
    "import numpy as np\n",
    "import numpy.random as rand\n",
    "import matplotlib.pyplot as plt"
   ]
  },
  {
   "attachments": {},
   "cell_type": "markdown",
   "metadata": {},
   "source": [
    "On considère deux vecteurs aléatoires gaussiens $Y=(y_1, y_2)$ et $Z=(z_1, z_2)$ centrées, de moyennes nulles et de matrices de covariances respectives\n",
    "$$\n",
    "C_Y = \n",
    "\\left(\n",
    "\\begin{array}{cc}\n",
    "1 & 0 \\\\\n",
    "0 & 9\n",
    "\\end{array}\n",
    "\\right)\n",
    ",\\ \\ \\ \n",
    "C_Z = \n",
    "\\left(\n",
    "\\begin{array}{cc}\n",
    "5 & 4 \\\\\n",
    "4 & 5\n",
    "\\end{array}\n",
    "\\right).\n",
    "$$"
   ]
  },
  {
   "cell_type": "code",
   "execution_count": 2,
   "metadata": {},
   "outputs": [],
   "source": [
    "CX = np.array([[1,0],[0,9]])\n",
    "CY = np.array([[5,4],[4, 5]])"
   ]
  },
  {
   "attachments": {},
   "cell_type": "markdown",
   "metadata": {},
   "source": [
    "**Question 1** : Écrire les lois conditionnelles $p(y_1 | y_2)$, $p(y_2 | y_1)$, $p(z_1 | z_2)$ et $p(z_2 | z_1)$, et implémenter l'échantillonneur de Gibbs pour $Y$ et $Z$."
   ]
  },
  {
   "cell_type": "code",
   "execution_count": 13,
   "metadata": {},
   "outputs": [],
   "source": [
    "def gibbsY(L): \n",
    "    Ysamples = np.zeros([2, L])\n",
    "    for i in range(1, L):\n",
    "        index = rand.binomial(1, 0.5)\n",
    "        Ysamples[index, i] = rand.normal(0, np.sqrt(CX[index, index]))\n",
    "        Ysamples[1-index, i] = Ysamples[1-index, i- 1]\n",
    "    return Ysamples"
   ]
  },
  {
   "cell_type": "code",
   "execution_count": 14,
   "metadata": {},
   "outputs": [],
   "source": [
    "def gibbsZ(L):\n",
    "\n",
    "    Zsamples = np.zeros([2, L])\n",
    "    for i in range(1, L):\n",
    "        index = rand.binomial(1, 0.5)\n",
    "        Zsamples[index, i] = rand.normal(4  * Zsamples[1 - index, i - 1]/ 5, np.sqrt(9/5))\n",
    "        Zsamples[1-index, i] = Zsamples[1-index, i- 1]    \n",
    "    \n",
    "    return Zsamples"
   ]
  },
  {
   "attachments": {},
   "cell_type": "markdown",
   "metadata": {},
   "source": [
    "**Question 2** : vérifier en calculant moyenne et matrice de covariance empiriques à partir de $L = 10000$ échantillons."
   ]
  },
  {
   "cell_type": "code",
   "execution_count": 22,
   "metadata": {},
   "outputs": [
    {
     "name": "stdout",
     "output_type": "stream",
     "text": [
      "La moyenne du vecteur Y est [-0.00261787  0.01995607]\n",
      "La moyenne du vecteur Z est [0.05616685 0.08761252]\n",
      "\n",
      "'La covariance de Y est [[ 1.00087361 -0.03747079]\\n [-0.03747079  9.08021129]]'\n",
      "'La covariance de Z est [[5.22765103 4.2490088 ]\\n [4.2490088  5.28757242]]'\n"
     ]
    }
   ],
   "source": [
    "Y, Z = gibbsY(10_000), gibbsZ(10_000)\n",
    "\n",
    "print(f\"La moyenne du vecteur Y est {np.mean(Y, axis = 1)}\")\n",
    "print(f\"La moyenne du vecteur Z est {np.mean(Z, axis = 1)}\")\n",
    "print()\n",
    "pprint(f\"La covariance de Y est {np.cov(Y)}\")\n",
    "pprint(f\"La covariance de Z est {np.cov(Z)}\")"
   ]
  },
  {
   "attachments": {},
   "cell_type": "markdown",
   "metadata": {},
   "source": [
    "**Question 3** : tracer une trajectoire des échantillons de $Y$, puis de $Z$ et comparer ($L = 200$)."
   ]
  },
  {
   "cell_type": "code",
   "execution_count": 15,
   "metadata": {},
   "outputs": [
    {
     "data": {
      "image/png": "[encoded data removed]",
      "text/plain": [
       "<Figure size 432x288 with 1 Axes>"
      ]
     },
     "metadata": {
      "needs_background": "light"
     },
     "output_type": "display_data"
    },
    {
     "data": {
      "image/png": "[encoded data removed]",
      "text/plain": [
       "<Figure size 432x288 with 1 Axes>"
      ]
     },
     "metadata": {
      "needs_background": "light"
     },
     "output_type": "display_data"
    }
   ],
   "source": [
    "L = 200\n",
    "\n",
    "\n",
    "Y, Z = gibbsY(200), gibbsZ(200)\n",
    "\n",
    "plt.plot(Y[0], Y[1])\n",
    "plt.show()\n",
    "plt.plot(Z[0], Z[1])\n",
    "plt.show()\n"
   ]
  },
  {
   "attachments": {},
   "cell_type": "markdown",
   "metadata": {},
   "source": [
    "**Question 3** : on s'intéresse à l'estimation de la moyenne de $Y$ et $Z$ à partir des échantillons obtenus. On note $\\hat \\mu_X^L$ et $\\hat \\mu_Y^L$ les estimateurs de la moyenne à partir de $L$ échantillons. En répétant la simulation plusieurs fois, tracer, en fonction du nombre d'échantillons, une estimation de la variance de ces estimateurs."
   ]
  },
  {
   "cell_type": "code",
   "execution_count": 23,
   "metadata": {
    "scrolled": true
   },
   "outputs": [],
   "source": [
    "Nt = 100;\n",
    "L = 1000\n",
    "Ymeans = np.zeros([2, L, Nt])\n",
    "Zmeans = np.zeros([2, L, Nt])\n",
    "\n",
    "for k in range(Nt):\n",
    "    Y = gibbsY(L)\n",
    "    Ymeans[:,:,k] = np.cumsum(Y, axis=1) / np.arange(1, L +1)\n",
    "\n",
    "    Z = gibbsZ(L)\n",
    "    Zmeans[:,:,k] = np.cumsum(Z, axis=1) / np.arange(1, L +1)"
   ]
  },
  {
   "cell_type": "code",
   "execution_count": 24,
   "metadata": {},
   "outputs": [],
   "source": [
    "varY = np.sum(Ymeans**2, 2)\n",
    "varZ = np.sum(Zmeans**2, 2)"
   ]
  },
  {
   "cell_type": "code",
   "execution_count": 26,
   "metadata": {},
   "outputs": [
    {
     "data": {
      "text/plain": [
       "[<matplotlib.lines.Line2D at 0x14093748ac8>,\n",
       " <matplotlib.lines.Line2D at 0x14093447408>]"
      ]
     },
     "execution_count": 26,
     "metadata": {},
     "output_type": "execute_result"
    },
    {
     "data": {
      "image/png": "[encoded data removed]",
      "text/plain": [
       "<Figure size 432x288 with 1 Axes>"
      ]
     },
     "metadata": {
      "needs_background": "light"
     },
     "output_type": "display_data"
    }
   ],
   "source": [
    "plt.loglog(varY.T)\n",
    "plt.loglog(varZ.T)"
   ]
  }
 ],
 "metadata": {
  "kernelspec": {
   "display_name": "deep_learning_iot",
   "language": "python",
   "name": "python3"
  },
  "language_info": {
   "codemirror_mode": {
    "name": "ipython",
    "version": 3
   },
   "file_extension": ".py",
   "mimetype": "text/x-python",
   "name": "python",
   "nbconvert_exporter": "python",
   "pygments_lexer": "ipython3",
   "version": "3.7.11"
  },
  "vscode": {
   "interpreter": {
    "hash": "4ded38d52dd620787f319a45fe5aecee89a4026f609c6dcdb78e4d31758b26a8"
   }
  }
 },
 "nbformat": 4,
 "nbformat_minor": 4
}
