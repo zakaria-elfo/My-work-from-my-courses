{
 "cells": [
  {
   "cell_type": "markdown",
   "metadata": {},
   "source": [
    "# Estimation des hyperparamètres - EM - VBEM\n",
    "\n",
    "Dans ce notebook, on s'intéresse à un modèle simple\n",
    "$$y = Ax + b$$\n",
    "où $b$ est une bruit gaussien centré de matrice de covariance $\\sigma_b^2 I$, et $x$ un signal à reconstruire, suivant une loi normale centrée de matrice de covariance $I / \\tau$. Le paramètre $\\tau$ sera également estimé.\n"
   ]
  },
  {
   "cell_type": "code",
   "execution_count": 33,
   "metadata": {},
   "outputs": [],
   "source": [
    "import numpy as np\n",
    "import numpy.random as rand\n",
    "import matplotlib.pyplot as plt"
   ]
  },
  {
   "cell_type": "code",
   "execution_count": 34,
   "metadata": {},
   "outputs": [],
   "source": [
    "def generate_data(A, sigma_n, alpha, beta):\n",
    "    \n",
    "    tau = rand.gamma(alpha, 1/beta)\n",
    "    \n",
    "    x = rand.multivariate_normal(np.zeros([A.shape[1]]), np.eye(A.shape[1]) / tau);\n",
    "    b = rand.multivariate_normal(np.zeros([A.shape[0]]), np.eye(A.shape[0]) * sigma_n);\n",
    "    y = A @ x + b\n",
    "    \n",
    "    return y, x, tau"
   ]
  },
  {
   "cell_type": "code",
   "execution_count": 79,
   "metadata": {},
   "outputs": [],
   "source": [
    "def sample_tau(x, y, alpha, beta):\n",
    "    \n",
    "    alpha2 = alpha + x.shape[0] / 2\n",
    "    beta2 = beta + np.sum(x**2) / 2\n",
    "\n",
    "    tau = rand.gamma(alpha2, 1/beta2)\n",
    "    \n",
    "    return tau\n",
    "\n",
    "\n",
    "def sample_x(y, tau, A, sigma_n):\n",
    "    \n",
    "    Reap = np.linalg.inv(A.T @ A / sigma_n + tau * np.eye(A.shape[1]))\n",
    "    Xeap = Reap @ A.T @ y / sigma_n\n",
    "    \n",
    "    x = rand.multivariate_normal(Xeap, Reap);\n",
    "    \n",
    "    return x\n",
    "\n",
    "def gibbs(y, A, alpha, beta, sigma_n, x0, tau0, q, L):\n",
    "\n",
    "    Xsamples = np.zeros([x0.shape[0], L])\n",
    "    Tausamples = np.zeros([L])\n",
    "    \n",
    "    Xsamples[:, 0] = x0\n",
    "    Tausamples[0] = tau0\n",
    "    \n",
    "    for k in range(1,L):\n",
    "        if rand.rand(1) > q:\n",
    "            Xsamples[:, k] = sample_x(y, Tausamples[k-1], A, sigma_n)\n",
    "            Tausamples[k] = Tausamples[k-1]\n",
    "        else:\n",
    "            Tausamples[k] = sample_tau(Xsamples[:, k-1], y, alpha, beta)\n",
    "            \n",
    "            Xsamples[:, k] = Xsamples[:, k-1]\n",
    "    \n",
    "    \n",
    "    return Xsamples, Tausamples"
   ]
  },
  {
   "cell_type": "code",
   "execution_count": 36,
   "metadata": {},
   "outputs": [],
   "source": [
    "N = 30;\n",
    "\n",
    "A = rand.randn(N, N)\n",
    "\n",
    "sigma_n = 1\n",
    "alpha = 3\n",
    "beta = 3\n",
    "y, x, tau = generate_data(A, sigma_n, alpha, beta)"
   ]
  },
  {
   "cell_type": "markdown",
   "metadata": {},
   "source": [
    "## EM\n",
    "\n",
    "**Question 1** : mettre en oeuvre l'algorithm EM pour l'estimation du paramètre $\\tau$. Donner son estimation MAP marginal et une estimation de $x$."
   ]
  },
  {
   "cell_type": "code",
   "execution_count": 37,
   "metadata": {},
   "outputs": [],
   "source": [
    "def EM(y, A, sigma_n, alpha, beta, niter):\n",
    "        \n",
    "    tau = np.zeros([niter+1])    \n",
    "        \n",
    "    tau[0] = alpha/beta;\n",
    "    \n",
    "    N = A.shape[1]\n",
    "    \n",
    "    for n in range(niter):\n",
    "        Reap = np.linalg.inv(A.T @ A / sigma_n + tau[n] * np.eye(A.shape[1]))\n",
    "        Xeap = Reap @ A.T @ y / sigma_n\n",
    "        \n",
    "        tau[n+1] = (alpha + N/2 - 1) / (beta + (np.sum(Xeap**2) + np.trace(Reap))/2)\n",
    "        \n",
    "    return tau"
   ]
  },
  {
   "cell_type": "code",
   "execution_count": 38,
   "metadata": {},
   "outputs": [],
   "source": [
    "tauEM = EM(y, A, sigma_n, alpha, beta, 10)"
   ]
  },
  {
   "cell_type": "code",
   "execution_count": 39,
   "metadata": {},
   "outputs": [
    {
     "data": {
      "text/plain": [
       "[<matplotlib.lines.Line2D at 0x7ff5af379280>]"
      ]
     },
     "execution_count": 39,
     "metadata": {},
     "output_type": "execute_result"
    },
    {
     "data": {
      "image/png": "[encoded data removed]",
      "text/plain": [
       "<Figure size 432x288 with 1 Axes>"
      ]
     },
     "metadata": {
      "needs_background": "light"
     },
     "output_type": "display_data"
    }
   ],
   "source": [
    "plt.plot(tauEM)"
   ]
  },
  {
   "cell_type": "markdown",
   "metadata": {},
   "source": [
    "## VBEM\n",
    "\n",
    "**Question 2** : mettre en oeuvre VBEM, et donner les paramètres des lois marginales approximatives de $\\tau$ et $x$."
   ]
  },
  {
   "cell_type": "code",
   "execution_count": 40,
   "metadata": {},
   "outputs": [],
   "source": [
    "def VBEM(y, A, sigma_n, alpha, beta, niter):\n",
    "    \n",
    "    alphapost = alpha;\n",
    "    betapost = beta;\n",
    "    N = A.shape[1]\n",
    "       \n",
    "    \n",
    "    for n in range(niter):\n",
    "        # itération sur x\n",
    "        taumean = alphapost/betapost;\n",
    "        Rpost = np.linalg.inv(A.T @ A / sigma_n + taumean * np.eye(A.shape[1]))\n",
    "        Xpost = Rpost @ A.T @ y / sigma_n\n",
    "        \n",
    "        # itération sur tau\n",
    "        \n",
    "        alphapost = alpha + N/2\n",
    "        betapost = beta + (np.sum(Xpost**2) + np.trace(Rpost))/2\n",
    "        \n",
    "    return alphapost, betapost, Xpost, Rpost"
   ]
  },
  {
   "cell_type": "code",
   "execution_count": 51,
   "metadata": {},
   "outputs": [],
   "source": [
    "alphapost, betapost, Xpost, Rpost = VBEM(y, A, sigma_n, alpha, beta, 100);"
   ]
  },
  {
   "cell_type": "code",
   "execution_count": 52,
   "metadata": {},
   "outputs": [
    {
     "data": {
      "text/plain": [
       "18.0"
      ]
     },
     "execution_count": 52,
     "metadata": {},
     "output_type": "execute_result"
    }
   ],
   "source": [
    "alphapost"
   ]
  },
  {
   "cell_type": "code",
   "execution_count": 53,
   "metadata": {},
   "outputs": [
    {
     "data": {
      "text/plain": [
       "44.893083027127346"
      ]
     },
     "execution_count": 53,
     "metadata": {},
     "output_type": "execute_result"
    }
   ],
   "source": [
    "betapost"
   ]
  },
  {
   "cell_type": "code",
   "execution_count": null,
   "metadata": {},
   "outputs": [],
   "source": [
    "# tau a posteriori\n",
    "alphapost/betapost"
   ]
  },
  {
   "cell_type": "markdown",
   "metadata": {},
   "source": [
    "**Question 3** : sur un même graphique, tracer l'histogramme des échantillons de $\\tau$ obtenus par l'échantillonneur de Gibbs, la valeur $\\tau$ obtenue par EM, et la distribution a posteriori de $\\tau$ donnée par VBEM."
   ]
  },
  {
   "cell_type": "code",
   "execution_count": 57,
   "metadata": {},
   "outputs": [
    {
     "data": {
      "text/plain": [
       "0.3037709286328073"
      ]
     },
     "execution_count": 57,
     "metadata": {},
     "output_type": "execute_result"
    }
   ],
   "source": [
    "#vrai tau\n",
    "tau"
   ]
  },
  {
   "cell_type": "code",
   "execution_count": 58,
   "metadata": {},
   "outputs": [
    {
     "data": {
      "text/plain": [
       "0.373373067579267"
      ]
     },
     "execution_count": 58,
     "metadata": {},
     "output_type": "execute_result"
    }
   ],
   "source": [
    "# tau EM\n",
    "tauEM[-1]"
   ]
  },
  {
   "cell_type": "code",
   "execution_count": 59,
   "metadata": {},
   "outputs": [],
   "source": [
    "# moyenne et cov. a posteriori pour EM\n",
    "REM = np.linalg.inv(A.T @ A / sigma_n + tauEM[-1] * np.eye(A.shape[1]))\n",
    "XEM = REM @ A.T @ y / sigma_n\n",
    "        "
   ]
  },
  {
   "cell_type": "code",
   "execution_count": 60,
   "metadata": {},
   "outputs": [
    {
     "data": {
      "text/plain": [
       "10.535316833718367"
      ]
     },
     "execution_count": 60,
     "metadata": {},
     "output_type": "execute_result"
    }
   ],
   "source": [
    "#erreur EM\n",
    "np.sum((XEM-x)**2)"
   ]
  },
  {
   "cell_type": "code",
   "execution_count": 61,
   "metadata": {},
   "outputs": [
    {
     "data": {
      "text/plain": [
       "10.636208816931617"
      ]
     },
     "execution_count": 61,
     "metadata": {},
     "output_type": "execute_result"
    }
   ],
   "source": [
    "#erreur VBEM\n",
    "np.sum((Xpost-x)**2)"
   ]
  },
  {
   "cell_type": "code",
   "execution_count": 63,
   "metadata": {},
   "outputs": [
    {
     "data": {
      "text/plain": [
       "49885.82422121226"
      ]
     },
     "execution_count": 63,
     "metadata": {},
     "output_type": "execute_result"
    }
   ],
   "source": [
    "#erreur max. de vraisemblance\n",
    "np.sum((np.linalg.inv(A)@y-x)**2)"
   ]
  },
  {
   "cell_type": "code",
   "execution_count": 64,
   "metadata": {},
   "outputs": [],
   "source": [
    "XS, TS = gibbs(y, A, alpha, beta, sigma_n, np.zeros([N]), 1, 0.1, 1000)"
   ]
  },
  {
   "cell_type": "code",
   "execution_count": 65,
   "metadata": {},
   "outputs": [],
   "source": [
    "# EAP Gibbs\n",
    "Xgibbs = np.mean(XS, 1)"
   ]
  },
  {
   "cell_type": "code",
   "execution_count": 66,
   "metadata": {},
   "outputs": [
    {
     "data": {
      "text/plain": [
       "10.273134092550192"
      ]
     },
     "execution_count": 66,
     "metadata": {},
     "output_type": "execute_result"
    }
   ],
   "source": [
    "# erreur Gibbs\n",
    "np.sum((Xgibbs-x)**2)"
   ]
  },
  {
   "cell_type": "code",
   "execution_count": 78,
   "metadata": {},
   "outputs": [
    {
     "data": {
      "text/plain": [
       "<matplotlib.legend.Legend at 0x7ff5aef557c0>"
      ]
     },
     "execution_count": 78,
     "metadata": {},
     "output_type": "execute_result"
    },
    {
     "data": {
      "image/png": "[encoded data removed]",
      "text/plain": [
       "<Figure size 432x288 with 1 Axes>"
      ]
     },
     "metadata": {
      "needs_background": "light"
     },
     "output_type": "display_data"
    }
   ],
   "source": [
    "plt.plot(x, label=\"x\")\n",
    "plt.plot(Xgibbs, label=\"x gibbs\")\n",
    "plt.plot(XEM, label=\"x EM\")\n",
    "plt.plot(Xpost, label=\"x VBEM\")\n",
    "plt.legend()"
   ]
  }
 ],
 "metadata": {
  "kernelspec": {
   "display_name": "Python 3",
   "language": "python",
   "name": "python3"
  },
  "language_info": {
   "codemirror_mode": {
    "name": "ipython",
    "version": 3
   },
   "file_extension": ".py",
   "mimetype": "text/x-python",
   "name": "python",
   "nbconvert_exporter": "python",
   "pygments_lexer": "ipython3",
   "version": "3.8.10"
  }
 },
 "nbformat": 4,
 "nbformat_minor": 4
}
