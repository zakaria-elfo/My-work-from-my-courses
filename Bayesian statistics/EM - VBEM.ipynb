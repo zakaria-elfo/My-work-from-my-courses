{
 "cells": [
  {
   "cell_type": "markdown",
   "metadata": {},
   "source": [
    "# Estimation des hyperparamètres - EM - VBEM\n",
    "\n",
    "Dans ce notebook, on s'intéresse à un modèle simple\n",
    "$$y = Ax + b$$\n",
    "où $b$ est une bruit gaussien centré de matrice de covariance $\\sigma_b^2 I$, et $x$ un signal à reconstruire, suivant une loi normale centrée de matrice de covariance $I / \\tau$. Le paramètre $\\tau$ sera également estimé.\n"
   ]
  },
  {
   "cell_type": "code",
   "execution_count": 1,
   "metadata": {},
   "outputs": [],
   "source": [
    "import numpy as np\n",
    "import numpy.random as rand\n",
    "import matplotlib.pyplot as plt"
   ]
  },
  {
   "cell_type": "code",
   "execution_count": 2,
   "metadata": {},
   "outputs": [],
   "source": [
    "def generate_data(A, sigma_n, alpha, beta):\n",
    "    \n",
    "    tau = rand.gamma(alpha, 1/beta)\n",
    "    \n",
    "    x = rand.multivariate_normal(np.zeros([A.shape[1]]), np.eye(A.shape[1]) / tau);\n",
    "    b = rand.multivariate_normal(np.zeros([A.shape[0]]), np.eye(A.shape[0]) * sigma_n);\n",
    "    y = A @ x + b\n",
    "    \n",
    "    return y, x, tau"
   ]
  },
  {
   "cell_type": "code",
   "execution_count": 3,
   "metadata": {},
   "outputs": [],
   "source": [
    "def sample_tau(x, y, alpha, beta):\n",
    "    \"\"\"\n",
    "    Loi a posteriori de tau | x\n",
    "    \"\"\"\n",
    "    alpha2 = alpha + x.shape[0] / 2\n",
    "    beta2 = beta + np.sum(x**2) / 2\n",
    "\n",
    "    tau = rand.gamma(alpha2, 1/beta2)\n",
    "    \n",
    "    return tau\n",
    "\n",
    "\n",
    "def sample_x(y, tau, A, sigma_n):\n",
    "    \"\"\"\n",
    "    Loi a posteriori de x | y, tau\n",
    "    \"\"\"\n",
    "    \n",
    "    Reap = np.linalg.inv(A.T @ A / sigma_n + tau * np.eye(A.shape[1]))\n",
    "    Xeap = Reap @ A.T @ y / sigma_n\n",
    "    \n",
    "    x = rand.multivariate_normal(Xeap, Reap);\n",
    "    \n",
    "    return x\n",
    "\n",
    "def gibbs(y, A, alpha, beta, sigma_n, x0, tau0, q, L):\n",
    "\n",
    "    \n",
    "    Xsamples = np.zeros([x0.shape[0], L])\n",
    "    Tausamples = np.zeros([L])\n",
    "    \n",
    "    Xsamples[:, 0] = x0\n",
    "    Tausamples[0] = tau0\n",
    "    \n",
    "    for k in range(1,L):\n",
    "        if rand.rand(1) > q:\n",
    "            Xsamples[:, k] = sample_x(y, Tausamples[k-1], A, sigma_n)\n",
    "            Tausamples[k] = Tausamples[k-1]\n",
    "        else:\n",
    "            Tausamples[k] = sample_tau(Xsamples[:, k-1], y, alpha, beta)\n",
    "            \n",
    "            Xsamples[:, k] = Xsamples[:, k-1]\n",
    "    \n",
    "    \n",
    "    return Xsamples, Tausamples"
   ]
  },
  {
   "cell_type": "code",
   "execution_count": 4,
   "metadata": {},
   "outputs": [],
   "source": [
    "N = 30;\n",
    "\n",
    "A = rand.randn(N, N)\n",
    "\n",
    "sigma_n = 0.1\n",
    "alpha = 0.5\n",
    "beta = 0.5\n",
    "y, x, tau = generate_data(A, sigma_n, alpha, beta)"
   ]
  },
  {
   "cell_type": "markdown",
   "metadata": {},
   "source": [
    "## EM\n",
    "\n",
    "**Question 1** : mettre en oeuvre l'algorithm EM pour l'estimation du paramètre $\\tau$. Donner son estimation MAP marginal et une estimation de $x$."
   ]
  },
  {
   "cell_type": "code",
   "execution_count": 5,
   "metadata": {},
   "outputs": [],
   "source": [
    "def EM(y, A, sigma_n, alpha, beta, niter):\n",
    "    \n",
    "    tau = alpha / beta; # tau est initializer par la moyenne selon sa loi gamma (beta, alpha)\n",
    "    \n",
    "    N = A.shape[1]\n",
    "    \n",
    "    for n in range(niter):\n",
    "        C_chap = np.linalg.inv(A.T @ A / sigma_n + tau * np.eye(A.shape[1]))\n",
    "        X_chap = C_chap @ A.T @ y / sigma_n\n",
    "        tau = (alpha  + N/2 - 1) / (beta + (sum(X_chap **2) + np.trace(C_chap)))\n",
    "    return tau"
   ]
  },
  {
   "cell_type": "markdown",
   "metadata": {},
   "source": [
    "## VBEM\n",
    "\n",
    "**Question 2** : mettre en oeuvre VBEM, et donner les paramètres des lois maringales approximatives de $\\tau$ et $x$."
   ]
  },
  {
   "cell_type": "code",
   "execution_count": 30,
   "metadata": {},
   "outputs": [],
   "source": [
    "def VBEM(y, A, sigma_n, alpha, beta, niter):\n",
    "    \n",
    "    alphapost = alpha;\n",
    "    betapost = beta;\n",
    "    N = A.shape[1]\n",
    "       \n",
    "    \n",
    "    for n in range(niter):\n",
    "        # itération sur x\n",
    "        taumean = alphapost/betapost;\n",
    "        Rpost = np.linalg.inv(A.T @ A / sigma_n + taumean * np.eye(A.shape[1]))\n",
    "        Xpost = Rpost @ A.T @ y / sigma_n\n",
    "        \n",
    "        # itération sur tau\n",
    "        \n",
    "        alphapost = alpha + N/2\n",
    "        betapost = beta + (np.sum(Xpost**2) + np.trace(Rpost))/2\n",
    "        \n",
    "    return alphapost, betapost, Xpost, Rpost"
   ]
  },
  {
   "cell_type": "code",
   "execution_count": 31,
   "metadata": {},
   "outputs": [],
   "source": [
    "alphapost, betapost, Xpost, Rpost = VBEM(y, A, sigma_n, alpha, beta, 100);"
   ]
  },
  {
   "cell_type": "markdown",
   "metadata": {},
   "source": [
    "**Question 3** : sur un même graphique, tracer l'histogramme des échantillons de $\\tau$ obtenus par l'échantillonneur de Gibbs, la valeur $\\tau$ obtenue par EM, et la distribution a posteriori de $\\tau$ donnée par VBEM."
   ]
  },
  {
   "cell_type": "code",
   "execution_count": 33,
   "metadata": {},
   "outputs": [],
   "source": [
    "# Now let's display all the found results \n",
    "niter = 10_000\n",
    "\n",
    "# GIBBS\n",
    "Xsamples, Tausamples = gibbs(y, A, alpha, beta, sigma_n, np.random.randn(N), 1, 0.5, niter)\n",
    "\n",
    "# EM\n",
    "tau_em = EM(y, A, sigma_n, alpha, beta, niter)\n",
    "# Now we can estimate x \n",
    "Reap_em = np.linalg.inv(A.T @ A / sigma_n + tau_em * np.eye(A.shape[1]))\n",
    "x_em = Reap_em @ A.T @ y / sigma_n\n",
    "\n",
    "# VBEM\n",
    "alpha_vbem, beta_vbem, Xeap, Reap = VBEM(y, A, sigma_n, alpha, beta, niter)\n"
   ]
  },
  {
   "cell_type": "code",
   "execution_count": 37,
   "metadata": {},
   "outputs": [
    {
     "data": {
      "image/png": "[encoded data removed]",
      "text/plain": [
       "<Figure size 432x288 with 1 Axes>"
      ]
     },
     "metadata": {
      "needs_background": "light"
     },
     "output_type": "display_data"
    }
   ],
   "source": [
    "n, bins, patches = plt.hist(Tausamples , bins = np.arange(min(Tausamples), max(Tausamples) + 0.01, 0.01), density = True)"
   ]
  },
  {
   "cell_type": "code",
   "execution_count": 38,
   "metadata": {},
   "outputs": [
    {
     "name": "stderr",
     "output_type": "stream",
     "text": [
      "c:\\Users\\zakar\\anaconda3\\envs\\deep_learning_iot\\lib\\site-packages\\ipykernel_launcher.py:5: RuntimeWarning: divide by zero encountered in true_divide\n",
      "  \"\"\"\n",
      "c:\\Users\\zakar\\anaconda3\\envs\\deep_learning_iot\\lib\\site-packages\\scipy\\stats\\_continuous_distns.py:2664: RuntimeWarning: invalid value encountered in subtract\n",
      "  return sc.xlogy(a-1.0, x) - x - sc.gammaln(a)\n",
      "c:\\Users\\zakar\\anaconda3\\envs\\deep_learning_iot\\lib\\site-packages\\ipykernel_launcher.py:19: UserWarning: Matplotlib is currently using module://matplotlib_inline.backend_inline, which is a non-GUI backend, so cannot show the figure.\n"
     ]
    },
    {
     "data": {
      "image/png": "[encoded data removed]",
      "text/plain": [
       "<Figure size 864x576 with 1 Axes>"
      ]
     },
     "metadata": {
      "needs_background": "light"
     },
     "output_type": "display_data"
    }
   ],
   "source": [
    "# Plotting the results \n",
    "from scipy.stats import gamma\n",
    "dist = gamma(alpha_vbem, 1/beta_vbem)\n",
    "x = np.linspace(0,0.8,1000)\n",
    "pdf = dist.pdf(1/np.linspace(0,0.8,1000))\n",
    "\n",
    "fig, ax = plt.subplots(1,1,figsize = (12,8))\n",
    "\n",
    "# Calculate the width of each bin\n",
    "width = 0.01\n",
    "\n",
    "# Normalize the histogram values\n",
    "n_normalized = n / (sum(n) * width)\n",
    "\n",
    "# Plot the normalized histogram\n",
    "plt.plot(bins[:-1], n_normalized)\n",
    "ax.axvline(x=tau_em, linestyle='--')\n",
    "ax.plot(x, pdf)\n",
    "fig.show()"
   ]
  }
 ],
 "metadata": {
  "kernelspec": {
   "display_name": "Python 3",
   "language": "python",
   "name": "python3"
  },
  "language_info": {
   "codemirror_mode": {
    "name": "ipython",
    "version": 3
   },
   "file_extension": ".py",
   "mimetype": "text/x-python",
   "name": "python",
   "nbconvert_exporter": "python",
   "pygments_lexer": "ipython3",
   "version": "3.7.11"
  }
 },
 "nbformat": 4,
 "nbformat_minor": 4
}
