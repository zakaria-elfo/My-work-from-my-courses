{
  "cells": [
    {
      "cell_type": "markdown",
      "source": [
        "# **Practical session on Transfer Learning**\n",
        "This Pratical session proposes to study several techniques for improving challenging context, in which few data and resources are available."
      ],
      "metadata": {
        "id": "4jVkOWmgFT1p"
      }
    },
    {
      "cell_type": "markdown",
      "metadata": {
        "id": "QLKnIngy_2hg"
      },
      "source": [
        "# Introduction\n",
        "\n",
        "**Context :**\n",
        "\n",
        "Assume we are in a context where few \"gold\" labeled data are available for training, say \n",
        "\n",
        "$$\\mathcal{X}_{\\text{train}} = \\{(x_n,y_n)\\}_{n\\leq N_{\\text{train}}}$$\n",
        "\n",
        "where $N_{\\text{train}}$ is small. \n",
        "\n",
        "A large test set $\\mathcal{X}_{\\text{test}}$ as well as a large amount of unlabeled data, $\\mathcal{X}$, is available. We also assume that we have a limited computational budget (e.g., no GPUs).\n",
        "\n",
        "**Instructions to follow :** \n",
        "\n",
        "For each question, write a commented *Code* or a complete answer as a *Markdown*. When the objective of a question is to report a CNN accuracy, please use the following format to report it, at the end of the question :\n",
        "\n",
        "| Model | Number of  epochs  | Train accuracy | Test accuracy |\n",
        "|------|------|------|------|\n",
        "|   XXX  | XXX | XXX | XXX |\n",
        "\n",
        "If applicable, please add the field corresponding to the  __Accuracy on Full Data__ as well as a link to the __Reference paper__ you used to report those numbers. (You do not need to train a CNN on the full CIFAR10 dataset!)\n",
        "\n",
        "In your final report, please *keep the logs of each training procedure* you used. We will only run this jupyter if we have some doubts on your implementation. \n",
        "\n",
        "The total file sizes should be reasonable (feasible with 2MB only!). You will be asked to hand in the notebook, together with any necessary files required to run it if any.\n",
        "\n",
        "You can use https://colab.research.google.com/ to run your experiments."
      ]
    },
    {
      "cell_type": "markdown",
      "metadata": {
        "id": "YmTCQPSh_2hg"
      },
      "source": [
        "## Training set creation\n",
        "__Question 1 (2 points) :__ Propose a dataloader to obtain a training loader that will only use the first 100 samples of the CIFAR-10 training set.\n",
        "\n",
        "Additional information :  \n",
        "\n",
        "*   CIFAR10 dataset : https://en.wikipedia.org/wiki/CIFAR-10\n",
        "*   You can directly use the dataloader framework from Pytorch.\n",
        "*   Alternatively you can modify the file : https://github.com/pytorch/vision/blob/master/torchvision/datasets/cifar.py"
      ]
    },
    {
      "cell_type": "code",
      "execution_count": 1,
      "metadata": {
        "id": "uZkC5IxR_2hh",
        "colab": {
          "base_uri": "https://localhost:8080/",
          "height": 84,
          "referenced_widgets": [
            "f5d712434cd942c6bf7f35909f4ac0d5",
            "742e8c7d14ee4be1bec21e97ef6b9b70",
            "7a2944f5fd1c4229bffd0afead9ff169",
            "31bb95b0f7aa44af8e32e273c8a81f81",
            "057f7857e3bd40b0bf7f70f773d2de60",
            "589e4363cd39437cb8ae9615764b3f67",
            "7a0c883f3296448e99d30f62313ddbff",
            "10eecd00083140808069d31765cd81fd",
            "1b2a278649f74d7d91a01fc8741c9d12",
            "f641d407c9e042eea732c0cb9195613d",
            "b0e98e6191f14d08ac0eb2b9c45a0f8b"
          ]
        },
        "outputId": "9a05a9bd-a7d2-479e-e332-7ff883cbd124"
      },
      "outputs": [
        {
          "output_type": "stream",
          "name": "stdout",
          "text": [
            "Downloading https://www.cs.toronto.edu/~kriz/cifar-10-python.tar.gz to ./data/cifar-10-python.tar.gz\n"
          ]
        },
        {
          "output_type": "display_data",
          "data": {
            "text/plain": [
              "  0%|          | 0/170498071 [00:00<?, ?it/s]"
            ],
            "application/vnd.jupyter.widget-view+json": {
              "version_major": 2,
              "version_minor": 0,
              "model_id": "f5d712434cd942c6bf7f35909f4ac0d5"
            }
          },
          "metadata": {}
        },
        {
          "output_type": "stream",
          "name": "stdout",
          "text": [
            "Extracting ./data/cifar-10-python.tar.gz to ./data\n"
          ]
        }
      ],
      "source": [
        "# Importing dependencies \n",
        "from torchvision.datasets import CIFAR10\n",
        "from torch.utils.data import DataLoader, Subset \n",
        "import numpy as np\n",
        "\n",
        "cifar_training_dataset = CIFAR10(root = './data', train = True, download = True)\n",
        "train_100 = Subset(cifar_training_dataset, np.arange(100))\n",
        "train_dataloder = DataLoader(train_100)"
      ]
    },
    {
      "cell_type": "markdown",
      "metadata": {
        "id": "fUno1nmu_2hh"
      },
      "source": [
        "* This is our dataset $\\mathcal{X}_{\\text{train}}$, it will be used until the end of this project. \n",
        "\n",
        "* The remaining samples correspond to $\\mathcal{X}$. \n",
        "\n",
        "* The testing set $\\mathcal{X}_{\\text{test}}$ corresponds to the whole testing set of CIFAR-10."
      ]
    },
    {
      "cell_type": "markdown",
      "metadata": {
        "id": "Vr0d4o5L_2hi"
      },
      "source": [
        "## Testing procedure\n",
        "__Question 2 (1.5 points):__ Explain why the evaluation of the training procedure is difficult. Propose several solutions."
      ]
    },
    {
      "cell_type": "markdown",
      "metadata": {
        "id": "ppiTrnpd_2hi"
      },
      "source": [
        "Many problems are related to the construction of the training set. The first problem is that the dataset is small, which increases the likelihood of the model overfitting and performing poorly on a larger test set. Another issue is that there may be class imbalance or even classes that were not represented in the training set, which can lead to biased evaluation of the model's performance.\n",
        "\n",
        "To alleviate these problems, several techniques can be employed, such as weak supervision techniques like transfer learning and active learning. Data augmentation can also be used to improve the training set by generating additional data, and a stratified approach can be taken to ensure class balance."
      ]
    },
    {
      "cell_type": "markdown",
      "metadata": {
        "id": "OEaIwILB_2hi"
      },
      "source": [
        "# The Baseline"
      ]
    },
    {
      "cell_type": "markdown",
      "metadata": {
        "id": "M-PQZ2Vl_2hi"
      },
      "source": [
        "In this section, the goal is to train a CNN on $\\mathcal{X}_{\\text{train}}$ and compare its performance with reported numbers from the litterature. You will have to re-use and/or design a standard classification pipeline. You should optimize your pipeline to obtain the best performances (image size, data augmentation by flip, ...).\n",
        "\n",
        "The key ingredients for training a CNN are the batch size, as well as the learning rate scheduler (i.e. how to decrease the learning rate as a function of the number of epochs). A possible scheduler is to start the learning rate at 0.1 and decreasing it every 30 epochs by 10. In case of divergence, reduce the learning rate. A potential batch size could be 10, yet this can be cross-validated.\n",
        "\n",
        "You can get some baselines accuracies in this paper (obviously, it is a different context for those researchers who had access to GPUs!) : http://openaccess.thecvf.com/content_cvpr_2018/papers/Keshari_Learning_Structure_and_CVPR_2018_paper.pdf. "
      ]
    },
    {
      "cell_type": "markdown",
      "metadata": {
        "id": "ARHWPXrY_2hi"
      },
      "source": [
        "## ResNet architectures"
      ]
    },
    {
      "cell_type": "markdown",
      "metadata": {
        "id": "voMbGoNw_2hj"
      },
      "source": [
        "__Question 3 (4 points) :__ Write a classification pipeline for $\\mathcal{X}_{\\text{train}}$, train from scratch and evaluate a *ResNet-18* architecture specific to CIFAR10 (details about the ImageNet model can be found here: https://arxiv.org/abs/1512.03385). Please report the accuracy obtained on the whole dataset as well as the reference paper/GitHub link.\n",
        "\n",
        "*Hint :* You can re-use the following code : https://github.com/kuangliu/pytorch-cifar. During a training of 10 epochs, a batch size of 10 and a learning rate of 0.01, one obtains 40% accuracy on $\\mathcal{X}_{\\text{train}}$ (\\~2 minutes) and 20% accuracy on $\\mathcal{X}_{\\text{test}}$ (\\~5 minutes)."
      ]
    },
    {
      "cell_type": "code",
      "execution_count": 2,
      "metadata": {
        "id": "RVHhKmWN_2hj"
      },
      "outputs": [],
      "source": [
        "# As suggested the following code is a re use of from the giving link:https://github.com/kuangliu/pytorch-cifar\n",
        "\n",
        "import torch\n",
        "import torch.nn as nn\n",
        "import torch.nn.functional as F\n",
        "\n",
        "\n",
        "class BasicBlock(nn.Module):\n",
        "    expansion = 1\n",
        "\n",
        "    def __init__(self, in_planes, planes, stride=1):\n",
        "        super(BasicBlock, self).__init__()\n",
        "        self.conv1 = nn.Conv2d(\n",
        "            in_planes, planes, kernel_size=3, stride=stride, padding=1, bias=False)\n",
        "        self.bn1 = nn.BatchNorm2d(planes)\n",
        "        self.conv2 = nn.Conv2d(planes, planes, kernel_size=3,\n",
        "                               stride=1, padding=1, bias=False)\n",
        "        self.bn2 = nn.BatchNorm2d(planes)\n",
        "\n",
        "        self.shortcut = nn.Sequential()\n",
        "        if stride != 1 or in_planes != self.expansion*planes:\n",
        "            self.shortcut = nn.Sequential(\n",
        "                nn.Conv2d(in_planes, self.expansion*planes,\n",
        "                          kernel_size=1, stride=stride, bias=False),\n",
        "                nn.BatchNorm2d(self.expansion*planes)\n",
        "            )\n",
        "\n",
        "    def forward(self, x):\n",
        "        out = F.relu(self.bn1(self.conv1(x)))\n",
        "        out = self.bn2(self.conv2(out))\n",
        "        out += self.shortcut(x)\n",
        "        out = F.relu(out)\n",
        "        return out\n",
        "\n",
        "\n",
        "class Bottleneck(nn.Module):\n",
        "    expansion = 4\n",
        "\n",
        "    def __init__(self, in_planes, planes, stride=1):\n",
        "        super(Bottleneck, self).__init__()\n",
        "        self.conv1 = nn.Conv2d(in_planes, planes, kernel_size=1, bias=False)\n",
        "        self.bn1 = nn.BatchNorm2d(planes)\n",
        "        self.conv2 = nn.Conv2d(planes, planes, kernel_size=3,\n",
        "                               stride=stride, padding=1, bias=False)\n",
        "        self.bn2 = nn.BatchNorm2d(planes)\n",
        "        self.conv3 = nn.Conv2d(planes, self.expansion *\n",
        "                               planes, kernel_size=1, bias=False)\n",
        "        self.bn3 = nn.BatchNorm2d(self.expansion*planes)\n",
        "\n",
        "        self.shortcut = nn.Sequential()\n",
        "        if stride != 1 or in_planes != self.expansion*planes:\n",
        "            self.shortcut = nn.Sequential(\n",
        "                nn.Conv2d(in_planes, self.expansion*planes,\n",
        "                          kernel_size=1, stride=stride, bias=False),\n",
        "                nn.BatchNorm2d(self.expansion*planes)\n",
        "            )\n",
        "\n",
        "    def forward(self, x):\n",
        "        out = F.relu(self.bn1(self.conv1(x)))\n",
        "        out = F.relu(self.bn2(self.conv2(out)))\n",
        "        out = self.bn3(self.conv3(out))\n",
        "        out += self.shortcut(x)\n",
        "        out = F.relu(out)\n",
        "        return out\n",
        "\n",
        "\n",
        "class ResNet(nn.Module):\n",
        "    def __init__(self, block, num_blocks, num_classes=10):\n",
        "        super(ResNet, self).__init__()\n",
        "        self.in_planes = 64\n",
        "\n",
        "        self.conv1 = nn.Conv2d(3, 64, kernel_size=3,\n",
        "                               stride=1, padding=1, bias=False)\n",
        "        self.bn1 = nn.BatchNorm2d(64)\n",
        "        self.layer1 = self._make_layer(block, 64, num_blocks[0], stride=1)\n",
        "        self.layer2 = self._make_layer(block, 128, num_blocks[1], stride=2)\n",
        "        self.layer3 = self._make_layer(block, 256, num_blocks[2], stride=2)\n",
        "        self.layer4 = self._make_layer(block, 512, num_blocks[3], stride=2)\n",
        "        self.linear = nn.Linear(512*block.expansion, num_classes)\n",
        "\n",
        "    def _make_layer(self, block, planes, num_blocks, stride):\n",
        "        strides = [stride] + [1]*(num_blocks-1)\n",
        "        layers = []\n",
        "        for stride in strides:\n",
        "            layers.append(block(self.in_planes, planes, stride))\n",
        "            self.in_planes = planes * block.expansion\n",
        "        return nn.Sequential(*layers)\n",
        "\n",
        "    def forward(self, x):\n",
        "        out = F.relu(self.bn1(self.conv1(x)))\n",
        "        out = self.layer1(out)\n",
        "        out = self.layer2(out)\n",
        "        out = self.layer3(out)\n",
        "        out = self.layer4(out)\n",
        "        out = F.avg_pool2d(out, 4)\n",
        "        out = out.view(out.size(0), -1)\n",
        "        out = self.linear(out)\n",
        "        return out\n",
        "\n",
        "\n",
        "def ResNet18():\n",
        "    return ResNet(BasicBlock, [2, 2, 2, 2])"
      ]
    },
    {
      "cell_type": "code",
      "source": [
        "# let's define a function to train the model \n",
        "import torch\n",
        "device = torch.device('cuda') if torch.cuda.is_available() else 'cpu'"
      ],
      "metadata": {
        "id": "2MYUeRuAaSbf"
      },
      "execution_count": 3,
      "outputs": []
    },
    {
      "cell_type": "code",
      "source": [
        "def train(model, optimizer, criterion,scheduler, dataLoader, epochs, verbose = True ,verbose_fraq = 5, device = device):\n",
        "  model = model.to(device)\n",
        "  history_loss = []\n",
        "  history_accuracy = []\n",
        "\n",
        "  for epoch in range(epochs):\n",
        "    model.train()\n",
        "    epoch_loss = 0\n",
        "    epoch_num_samples = 0\n",
        "    epoch_correct = 0\n",
        "\n",
        "    for batch_idx, (x_batch, y_batch) in enumerate(dataLoader):\n",
        "      x_batch, y_batch = x_batch.to(device), y_batch.to(device)\n",
        "      optimizer.zero_grad()\n",
        "      output = model(x_batch)\n",
        "      loss = criterion(output, y_batch)\n",
        "      loss.backward()\n",
        "      optimizer.step()\n",
        "      \n",
        "      y_predicted = output.argmax(dim = 1)\n",
        "      epoch_loss += loss.item()\n",
        "      epoch_num_samples += len(y_batch)\n",
        "      epoch_correct += (y_predicted == y_batch).sum()\n",
        "\n",
        "    epoch_accuracy = 100 * epoch_correct.item() / epoch_num_samples\n",
        "    history_accuracy.append(round(epoch_accuracy ,2))\n",
        "    epoch_loss = round(epoch_loss / len(dataLoader),2)\n",
        "    history_loss.append(epoch_loss)\n",
        "\n",
        "    scheduler.step() # Adjust scheduler\n",
        "\n",
        "    if verbose:\n",
        "      if epoch % verbose_fraq == 0:\n",
        "        print(f'Train Epoch: {epoch} : Loss : {epoch_loss} / Accuracy : {epoch_accuracy} %')\n",
        "  return history_loss, history_accuracy"
      ],
      "metadata": {
        "id": "55iSU99rLTIx"
      },
      "execution_count": 4,
      "outputs": []
    },
    {
      "cell_type": "code",
      "source": [
        "# now let's define a function to test the model \n",
        "def test(model, dataLoader, device = device):\n",
        "  model.eval()\n",
        "  num_samples = 0\n",
        "  correct = 0\n",
        "  for batch_idx, (x_batch, y_batch) in enumerate(dataLoader):\n",
        "    x_batch, y_batch = x_batch.to(device), y_batch.to(device)\n",
        "    output = model(x_batch)\n",
        "    predict = output.argmax(dim = 1)\n",
        "    num_samples += len(y_batch)\n",
        "    correct += (predict == y_batch).sum()\n",
        "  return round(100 * correct.item() / num_samples, 2)\n"
      ],
      "metadata": {
        "id": "siWPnVhdKPG7"
      },
      "execution_count": 5,
      "outputs": []
    },
    {
      "cell_type": "code",
      "source": [
        "# Let's start training \n",
        "import torchvision.transforms as transforms\n",
        "\n",
        "epochs = 20\n",
        "batch_size = 10"
      ],
      "metadata": {
        "id": "7yqOCfjojDPK"
      },
      "execution_count": 6,
      "outputs": []
    },
    {
      "cell_type": "code",
      "source": [
        "# define train loader \n",
        "cifar_training_dataset = CIFAR10(root = './conent', train = True, download = True, transform=transforms.ToTensor())\n",
        "train_100 = Subset(cifar_training_dataset, np.arange(100))\n",
        "train_dataloder = DataLoader(train_100, batch_size= batch_size, shuffle = True)\n",
        "# define test loader \n",
        "cifar_test_dataset = CIFAR10(root = './conent', train = False, download = True, transform=transforms.ToTensor())\n",
        "test_dataloder = DataLoader(cifar_test_dataset, batch_size= batch_size)"
      ],
      "metadata": {
        "colab": {
          "base_uri": "https://localhost:8080/",
          "height": 101,
          "referenced_widgets": [
            "9f314a0c6b4d46f49ed8dd4744c69478",
            "52ac54e647644166987801c4e2bab37b",
            "675afed3cfad41949ae54712c74fe25d",
            "0f44ca0f93c045c8905e3e2b0e7db87d",
            "92aa5fd7f4a147d39ea8da1b5436ad25",
            "4d2034e89f2b4ad696b53d500205951a",
            "101851cad4c6488d9da4986ada2e959f",
            "ba1946eacaa24fc0a0952f6eb17151ee",
            "8e0b718ee434409c97329a30d8141e97",
            "1d1d69b6c42c40e78adf36c9a4de8cdb",
            "fcafd34f7b244e889069bb7d0e06862e"
          ]
        },
        "id": "g5B7QPK_LTFV",
        "outputId": "4e5b5811-b9b0-4e58-dde5-362e247a812c"
      },
      "execution_count": 7,
      "outputs": [
        {
          "output_type": "stream",
          "name": "stdout",
          "text": [
            "Downloading https://www.cs.toronto.edu/~kriz/cifar-10-python.tar.gz to ./conent/cifar-10-python.tar.gz\n"
          ]
        },
        {
          "output_type": "display_data",
          "data": {
            "text/plain": [
              "  0%|          | 0/170498071 [00:00<?, ?it/s]"
            ],
            "application/vnd.jupyter.widget-view+json": {
              "version_major": 2,
              "version_minor": 0,
              "model_id": "9f314a0c6b4d46f49ed8dd4744c69478"
            }
          },
          "metadata": {}
        },
        {
          "output_type": "stream",
          "name": "stdout",
          "text": [
            "Extracting ./conent/cifar-10-python.tar.gz to ./conent\n",
            "Files already downloaded and verified\n"
          ]
        }
      ]
    },
    {
      "cell_type": "code",
      "source": [
        "# define the model\n",
        "\n",
        "resnet = ResNet18()\n",
        "optimizer = torch.optim.SGD(resnet.parameters(), lr=0.01)\n",
        "scheduler = torch.optim.lr_scheduler.StepLR(optimizer, step_size = 5, gamma = 0.1)\n",
        "criterion = nn.CrossEntropyLoss()\n",
        "\n",
        "\n",
        "print(\" Start training \" + \".\"*20)\n",
        "train_accuracy , training_loss = train(resnet, optimizer, criterion,scheduler, train_dataloder, epochs, verbose = True ,verbose_fraq = 5, device = device)"
      ],
      "metadata": {
        "colab": {
          "base_uri": "https://localhost:8080/"
        },
        "id": "lM-JQnkJZwh_",
        "outputId": "28d25457-412d-4ba4-d0ef-520bce36f4ca"
      },
      "execution_count": null,
      "outputs": [
        {
          "output_type": "stream",
          "name": "stdout",
          "text": [
            " Start training ....................\n",
            "Train Epoch: 0 : Loss : 2.37 / Accuracy : 14.0 %\n",
            "Train Epoch: 5 : Loss : 0.47 / Accuracy : 95.0 %\n",
            "Train Epoch: 10 : Loss : 0.31 / Accuracy : 100.0 %\n",
            "Train Epoch: 15 : Loss : 0.23 / Accuracy : 100.0 %\n"
          ]
        }
      ]
    },
    {
      "cell_type": "code",
      "source": [
        "# Now let's test our model \n",
        "print(\"Tesing the model\" + '.'*20)\n",
        "test_accuracy = test(resnet, test_dataloder, device = device)\n",
        "print(f\"test_accuracy is {test_accuracy} %\")"
      ],
      "metadata": {
        "colab": {
          "base_uri": "https://localhost:8080/"
        },
        "id": "Z9RI-5jilFbl",
        "outputId": "4702b2e1-7965-44af-901d-ec1850934787"
      },
      "execution_count": null,
      "outputs": [
        {
          "output_type": "stream",
          "name": "stdout",
          "text": [
            "Tesing the model....................\n",
            "test_accuracy is 22.64 %\n"
          ]
        }
      ]
    },
    {
      "cell_type": "markdown",
      "source": [
        "| Model | Number of  epochs  | Train accuracy | Test accuracy |\n",
        "|------|------|------|------|\n",
        "|   ResNet18 (100 samples)  | 20 | 100% | 22.64 % |\n",
        "\n",
        "\n",
        "Compared to ResNet18 models with different epochs and trained on the whole training set :\n",
        "\n",
        "|Link | Model | Number of  epochs  | Train accuracy | Test accuracy |\n",
        "|-----|------|------|------|------|\n",
        "|  https://github.com/Mountchicken/ResNet18-CIFAR10 |ResNet18 | 300 | -- | 95.09 % |\n",
        "|   https://github.com/abhisikdar/RESNET18-CIFAR10/blob/main/Part_1.ipynb|ResNet18 | 100 | 100% | 75.8 % |"
      ],
      "metadata": {
        "id": "14pm7XLSnWEe"
      }
    },
    {
      "cell_type": "markdown",
      "metadata": {
        "id": "-C3mHqCk_2hj"
      },
      "source": [
        "# Transfer learning"
      ]
    },
    {
      "cell_type": "markdown",
      "metadata": {
        "id": "8Tn9pW14_2hj"
      },
      "source": [
        "We propose to use pre-trained models on a classification and generative task, in order to improve the results of our setting."
      ]
    },
    {
      "cell_type": "markdown",
      "metadata": {
        "id": "z8g_3ZDi_2hj"
      },
      "source": [
        "## ImageNet features"
      ]
    },
    {
      "cell_type": "markdown",
      "metadata": {
        "id": "PfYEhdFb_2hj"
      },
      "source": [
        "Now, we will use some pre-trained models on ImageNet and see how well they compare on CIFAR. A list is available on : https://pytorch.org/vision/stable/models.html.\n",
        "\n",
        "__Question 4 (3 points):__ Pick a model from the list above, adapt it for CIFAR10 and retrain its final layer (or a block of layers, depending on the resources to which you have access to). Report its accuracy."
      ]
    },
    {
      "cell_type": "code",
      "source": [
        "from torchvision.models import resnet50"
      ],
      "metadata": {
        "id": "jNET5V-s0SL-"
      },
      "execution_count": 8,
      "outputs": []
    },
    {
      "cell_type": "code",
      "source": [
        "import matplotlib.pyplot as plt\n",
        "import warnings\n",
        "warnings.filterwarnings('ignore')"
      ],
      "metadata": {
        "id": "8UN9JREO9At3"
      },
      "execution_count": 9,
      "outputs": []
    },
    {
      "cell_type": "code",
      "execution_count": 10,
      "metadata": {
        "collapsed": true,
        "id": "i_lh4xje_2hk"
      },
      "outputs": [],
      "source": [
        "# For this part we picked a ResNet50 model let's fine tune it as suggested in the course, in the first part we only train the last add layer and freeze all the other layers,\n",
        "# and in a second time we are going to unfreeze all the layers and retrain  the whole layers \n",
        "\n",
        "class ResNet50_pretrained(nn.Module):\n",
        "  def __init__(self):\n",
        "    super(ResNet50_pretrained, self).__init__()\n",
        "    self.pretrained_model = resnet50(pretrained = True)\n",
        "    self.features = nn.Sequential(*list(self.pretrained_model.children())[:-1])\n",
        "    self.fc = nn.Linear(self.pretrained_model.fc.in_features, 10)\n",
        "\n",
        "  def forward(self, x):\n",
        "    x = self.features(x)\n",
        "    # let's squeeze it \n",
        "    x = x.squeeze(3).squeeze(2)\n",
        "    x = self.fc(x)\n",
        "    return x"
      ]
    },
    {
      "cell_type": "code",
      "source": [
        "# Let's now define a function for the training strategy \n",
        "def train_pretrained_model( train_loader,test_loader ,epochs, verbose = True ,verbose_fraq = 5, device = device, plot_res = True, test_model = True):\n",
        "  model = ResNet50_pretrained()\n",
        "  optimizer = torch.optim.SGD(model.parameters(), lr=0.1)\n",
        "  scheduler = torch.optim.lr_scheduler.StepLR(optimizer, step_size = 20, gamma = 0.2)\n",
        "  criterion = nn.CrossEntropyLoss()\n",
        "\n",
        "  for param in model.parameters():\n",
        "    param.requires_grad = False\n",
        "  for param in model.fc.parameters():\n",
        "    param.requires_grad = True \n",
        "  \n",
        "  print(\"Start first stage of training \" + '.'*50)\n",
        "  training_loss1, train_accuracy1 = train(model, optimizer, criterion,scheduler, train_dataloder, epochs, verbose = True ,verbose_fraq = 5, device = device)\n",
        "  test_accuracy = test(model , test_dataloder, device = device)\n",
        "  print(f\"test_accuracy after first stage is {test_accuracy} %\")\n",
        "\n",
        "  print(\"Start second stage of training \" + '.'*50)\n",
        "  for param in model.parameters():\n",
        "    param.requires_grad = True\n",
        "\n",
        "  training_loss2, train_accuracy2  = train(model, optimizer, criterion,scheduler, train_dataloder, epochs, verbose = True ,verbose_fraq = 5, device = device)\n",
        "  if test_model:\n",
        "    test_accuracy = test(model , test_dataloder, device = device)\n",
        "    print(f\"test_accuracy after second stage is {test_accuracy} %\")\n",
        "  if plot_res :\n",
        "    # let's plot the history of loss and accuracy functions\n",
        "    fig, axes = plt.subplots(1,2, figsize = (10,10))\n",
        "    axes[0].plot(np.arange(1,epochs+1), train_accuracy1, label = 'First stage')\n",
        "    axes[0].plot(np.arange(epochs+1,2 * epochs+1), train_accuracy2, label = 'Second stage')\n",
        "    axes[0].set_title('Training Accuracy')\n",
        "    axes[0].set_xlabel('epochs')\n",
        "\n",
        "    axes[1].plot(np.arange(1,epochs+1), training_loss1, label = 'First stage')\n",
        "    axes[1].plot(np.arange(epochs+1,2 * epochs+1), training_loss2, label = 'Second stage')\n",
        "    axes[1].set_title('Training Loss')\n",
        "    axes[1].set_xlabel('epochs')\n",
        "    fig.show()"
      ],
      "metadata": {
        "id": "GVYd6cY83ogh"
      },
      "execution_count": 11,
      "outputs": []
    },
    {
      "cell_type": "code",
      "source": [
        "# let's use 31 epochs for each phase \n",
        "epochs = 56\n",
        "train_pretrained_model( train_dataloder,test_dataloder ,epochs, verbose = True ,verbose_fraq = 5, device = device)"
      ],
      "metadata": {
        "colab": {
          "base_uri": "https://localhost:8080/",
          "height": 1000,
          "referenced_widgets": [
            "d9fec15447f248ae8bfb5371b6117f5b",
            "145ac64fc50b4ecbbf032cbf1ffb58b9",
            "607002dbebdf4e958c2da310ed961fd7",
            "027fa409634b44ec803c2c20040fbd87",
            "aeba6d4f6b104f428481b5635a00205c",
            "f14d02561e4945d5b98d1e6f8e4f1a51",
            "4b3ab407bb38486ba4c8894a2a4f9a58",
            "0877ca025ac142d8b5ed296fa0e9454a",
            "3eece2cc0ef94b6797fc0e1e632cf191",
            "f174591fe52b449ba29ef8f7ad64ce4b",
            "678b07d758e84a8481f4054fcc269709"
          ]
        },
        "id": "y_fglpqt8De-",
        "outputId": "3764ffff-5183-41e7-e431-6041ad3db856"
      },
      "execution_count": 12,
      "outputs": [
        {
          "output_type": "stream",
          "name": "stderr",
          "text": [
            "Downloading: \"https://download.pytorch.org/models/resnet50-0676ba61.pth\" to /root/.cache/torch/hub/checkpoints/resnet50-0676ba61.pth\n"
          ]
        },
        {
          "output_type": "display_data",
          "data": {
            "text/plain": [
              "  0%|          | 0.00/97.8M [00:00<?, ?B/s]"
            ],
            "application/vnd.jupyter.widget-view+json": {
              "version_major": 2,
              "version_minor": 0,
              "model_id": "d9fec15447f248ae8bfb5371b6117f5b"
            }
          },
          "metadata": {}
        },
        {
          "output_type": "stream",
          "name": "stdout",
          "text": [
            "Start first stage of training ..................................................\n",
            "Train Epoch: 0 : Loss : 17.91 / Accuracy : 9.0 %\n",
            "Train Epoch: 5 : Loss : 8.67 / Accuracy : 24.0 %\n",
            "Train Epoch: 10 : Loss : 4.92 / Accuracy : 44.0 %\n",
            "Train Epoch: 15 : Loss : 3.18 / Accuracy : 50.0 %\n",
            "Train Epoch: 20 : Loss : 1.7 / Accuracy : 73.0 %\n",
            "Train Epoch: 25 : Loss : 1.02 / Accuracy : 80.0 %\n",
            "Train Epoch: 30 : Loss : 1.47 / Accuracy : 78.0 %\n",
            "Train Epoch: 35 : Loss : 1.24 / Accuracy : 73.0 %\n",
            "Train Epoch: 40 : Loss : 0.81 / Accuracy : 80.0 %\n",
            "Train Epoch: 45 : Loss : 0.68 / Accuracy : 83.0 %\n",
            "Train Epoch: 50 : Loss : 0.81 / Accuracy : 84.0 %\n",
            "Train Epoch: 55 : Loss : 0.92 / Accuracy : 82.0 %\n",
            "test_accuracy after first stage is 21.39 %\n",
            "Start second stage of training ..................................................\n",
            "Train Epoch: 0 : Loss : 9.58 / Accuracy : 30.0 %\n",
            "Train Epoch: 5 : Loss : 1.69 / Accuracy : 48.0 %\n",
            "Train Epoch: 10 : Loss : 1.17 / Accuracy : 64.0 %\n",
            "Train Epoch: 15 : Loss : 0.92 / Accuracy : 72.0 %\n",
            "Train Epoch: 20 : Loss : 0.68 / Accuracy : 77.0 %\n",
            "Train Epoch: 25 : Loss : 0.52 / Accuracy : 86.0 %\n",
            "Train Epoch: 30 : Loss : 0.59 / Accuracy : 83.0 %\n",
            "Train Epoch: 35 : Loss : 0.62 / Accuracy : 86.0 %\n",
            "Train Epoch: 40 : Loss : 0.5 / Accuracy : 89.0 %\n",
            "Train Epoch: 45 : Loss : 0.46 / Accuracy : 92.0 %\n",
            "Train Epoch: 50 : Loss : 0.45 / Accuracy : 87.0 %\n",
            "Train Epoch: 55 : Loss : 0.6 / Accuracy : 85.0 %\n",
            "test_accuracy after second stage is 22.86 %\n"
          ]
        },
        {
          "output_type": "display_data",
          "data": {
            "text/plain": [
              "<Figure size 720x720 with 2 Axes>"
            ],
            "image/png": "[encoded data removed]"
          },
          "metadata": {
            "needs_background": "light"
          }
        }
      ]
    },
    {
      "cell_type": "markdown",
      "source": [
        "We can see a drop in the accuracy in the beginning of the second phase followed by an increasing phase.\n",
        "\n",
        "| Model | Number of  epochs  | Train accuracy | Test accuracy |\n",
        "|------|------|------|------|\n",
        "|   ResNet50 (only last layer is trained)  | 55 | 85% | 22.23 % |\n",
        "|   ResNet50 (two training phases)  | 55 + 55 | 90 % | 24.68 % |\n",
        "\n",
        "We need to resize the images to 224*224 like the training of ResNet50 was done "
      ],
      "metadata": {
        "id": "Cy-NqTPnELc6"
      }
    },
    {
      "cell_type": "code",
      "source": [
        "# In order to benifite from the way ResNet50 was trained, it would be a good practice to resize the image to that format\n",
        "from torchvision.transforms import transforms\n",
        "batch_size = 10\n",
        "\n",
        "transformations = transforms.Compose([\n",
        "                transforms.Resize((224,224)),\n",
        "                transforms.ToTensor()\n",
        "                ])\n",
        "\n",
        "# define train loader \n",
        "cifar_training_dataset = CIFAR10(root = './conent', train = True, download = True, transform=transformations)\n",
        "train_100 = Subset(cifar_training_dataset, np.arange(100))\n",
        "train_dataloder = DataLoader(train_100, batch_size= batch_size, shuffle = True)\n",
        "# define test loader \n",
        "cifar_test_dataset = CIFAR10(root = './conent', train = False, download = True, transform=transformations)\n",
        "test_dataloder = DataLoader(cifar_test_dataset, batch_size= batch_size)"
      ],
      "metadata": {
        "colab": {
          "base_uri": "https://localhost:8080/"
        },
        "id": "pUhsuDjizknf",
        "outputId": "b31f91fe-ebfd-47a7-e21c-b1286f8aa13d"
      },
      "execution_count": null,
      "outputs": [
        {
          "output_type": "stream",
          "name": "stdout",
          "text": [
            "Files already downloaded and verified\n",
            "Files already downloaded and verified\n"
          ]
        }
      ]
    },
    {
      "cell_type": "code",
      "source": [
        "epochs = 55\n",
        "train_pretrained_model( train_dataloder,test_dataloder ,epochs, verbose = True ,verbose_fraq = 5, device = device)"
      ],
      "metadata": {
        "colab": {
          "base_uri": "https://localhost:8080/",
          "height": 1000
        },
        "id": "2ZpUSPEpJ8lX",
        "outputId": "de80fc8a-5869-4186-cd17-a2132397c5bb"
      },
      "execution_count": null,
      "outputs": [
        {
          "output_type": "stream",
          "name": "stdout",
          "text": [
            "Start first stage of training ..................................................\n",
            "Train Epoch: 0 : Loss : 12.77 / Accuracy : 12.0 %\n",
            "Train Epoch: 5 : Loss : 3.97 / Accuracy : 55.0 %\n",
            "Train Epoch: 10 : Loss : 0.86 / Accuracy : 83.0 %\n",
            "Train Epoch: 15 : Loss : 0.15 / Accuracy : 95.0 %\n",
            "Train Epoch: 20 : Loss : 0.03 / Accuracy : 98.0 %\n",
            "Train Epoch: 25 : Loss : 0.01 / Accuracy : 100.0 %\n",
            "Train Epoch: 30 : Loss : 0.02 / Accuracy : 100.0 %\n",
            "Train Epoch: 35 : Loss : 0.11 / Accuracy : 97.0 %\n",
            "Train Epoch: 40 : Loss : 0.02 / Accuracy : 99.0 %\n",
            "Train Epoch: 45 : Loss : 0.04 / Accuracy : 99.0 %\n",
            "Train Epoch: 50 : Loss : 0.05 / Accuracy : 99.0 %\n",
            "test_accuracy after first stage is 53.46 %\n",
            "Start second stage of training ..................................................\n",
            "Train Epoch: 0 : Loss : 0.09 / Accuracy : 97.0 %\n",
            "Train Epoch: 5 : Loss : 0.08 / Accuracy : 98.0 %\n",
            "Train Epoch: 10 : Loss : 0.01 / Accuracy : 100.0 %\n",
            "Train Epoch: 15 : Loss : 0.0 / Accuracy : 100.0 %\n",
            "Train Epoch: 20 : Loss : 0.01 / Accuracy : 100.0 %\n",
            "Train Epoch: 25 : Loss : 0.01 / Accuracy : 100.0 %\n",
            "Train Epoch: 30 : Loss : 0.01 / Accuracy : 100.0 %\n",
            "Train Epoch: 35 : Loss : 0.02 / Accuracy : 99.0 %\n",
            "Train Epoch: 40 : Loss : 0.01 / Accuracy : 100.0 %\n",
            "Train Epoch: 45 : Loss : 0.01 / Accuracy : 100.0 %\n",
            "Train Epoch: 50 : Loss : 0.02 / Accuracy : 99.0 %\n",
            "test_accuracy after second stage is 54.38 %\n"
          ]
        },
        {
          "output_type": "display_data",
          "data": {
            "text/plain": [
              "<Figure size 720x720 with 2 Axes>"
            ],
            "image/png": "[encoded data removed]"
          },
          "metadata": {
            "needs_background": "light"
          }
        }
      ]
    },
    {
      "cell_type": "markdown",
      "source": [
        "We can see that the accuracy is constantly increasing even at the start of the second phase, we can also observe that the number of epochs needed is smaller than for the previous case.\n",
        "\n",
        "| Model | Number of  epochs  | Train accuracy | Test accuracy |\n",
        "|------|------|------|------|\n",
        "|   ResNet50 (only last layer is trained)  | 55 | 99% | 53.46 % |\n",
        "|   ResNet50 (two training phases)  | 55 + 55 | 100 % | 54.38 % |\n",
        "\n",
        "We need to resize the images to 224*224 like the training of ResNet50 was done "
      ],
      "metadata": {
        "id": "OBUVxzAVMT4v"
      }
    },
    {
      "cell_type": "markdown",
      "metadata": {
        "id": "SvkuMzLs_2hk"
      },
      "source": [
        "# Incorporating *a priori*\n",
        "Geometrical *a priori* are appealing for image classification tasks. For now, we only consider linear transformations $\\mathcal{T}$ of the inputs $x:\\mathbb{S}^2\\rightarrow\\mathbb{R}$ where $\\mathbb{S}$ is the support of an image, meaning that :\n",
        "\n",
        "$$\\forall u\\in\\mathbb{S}^2,\\mathcal{T}(\\lambda x+\\mu y)(u)=\\lambda \\mathcal{T}(x)(u)+\\mu \\mathcal{T}(y)(u)\\,.$$\n",
        "\n",
        "For instance if an image had an infinite support, a translation $\\mathcal{T}_a$ by $a$ would lead to :\n",
        "\n",
        "$$\\forall u, \\mathcal{T}_a(x)(u)=x(u-a)\\,.$$\n",
        "\n",
        "Otherwise, one has to handle several boundary effects.\n",
        "\n",
        "__Question 5 (1.5 points) :__ Explain the issues when dealing with translations, rotations, scaling effects, color changes on $32\\times32$ images. Propose several ideas to tackle them."
      ]
    },
    {
      "cell_type": "markdown",
      "metadata": {
        "id": "TIaY60o1_2hk"
      },
      "source": [
        "* **Translation, rotation and scalling :** When applying these transformations, many issues will araise, starting from information loss ( for example when the resulted pixel's transformation lay outside of the image boundary). The second problem is distortion (e.g the change in the shape of the objects in the image). Another problem related to scalling is blurring effect due to change in the original dimensions of the image.\n",
        "To mitigate these problems, we can use padding, interpolation/resampling techniques such as bilinear interpolation or bicubic interpolation \n",
        "* **Color changes :** the main problem is the correlation between colors and intensities (it is the case for RGB space) which affect the perceived brightness and contrast of the image, making it harder to distinguish between different elements in the image. So solve this problem we can use several techniques as histogram equalization, contrast stretching, and color balance adjustment or samply change the color space to HSV."
      ]
    },
    {
      "cell_type": "markdown",
      "metadata": {
        "id": "ds6e6teG_2hk"
      },
      "source": [
        "## Data augmentations"
      ]
    },
    {
      "cell_type": "markdown",
      "metadata": {
        "id": "-Ek5wlOo_2hk"
      },
      "source": [
        "__Question 6 (3 points):__ Propose a set of geometric transformation beyond translation, and incorporate them in your training pipeline. Train the model of the __Question 3__ with them and report the accuracies."
      ]
    },
    {
      "cell_type": "markdown",
      "source": [
        "For this question we are going to use `ColorJitter`, to randomly change the brightness, contrast, saturation and hue of an image. `RandomHorizontalFlip` to horizontally flip the given image randomly with a given probability, and `RandomRotation` to rotate the image by angle."
      ],
      "metadata": {
        "id": "YsWm_DyWb4km"
      }
    },
    {
      "cell_type": "code",
      "execution_count": null,
      "metadata": {
        "collapsed": true,
        "id": "FqCjrXGk_2hk",
        "colab": {
          "base_uri": "https://localhost:8080/"
        },
        "outputId": "81df0731-372d-4138-a370-eea45903a4bb"
      },
      "outputs": [
        {
          "output_type": "stream",
          "name": "stdout",
          "text": [
            "Files already downloaded and verified\n",
            "Files already downloaded and verified\n"
          ]
        }
      ],
      "source": [
        "# Data transformations\n",
        "transformations = transforms.Compose([\n",
        "                 transforms.ColorJitter(hue= 0.1),\n",
        "                 transforms.RandomHorizontalFlip(),\n",
        "                 transforms.RandomRotation(degrees = (0, 180)),\n",
        "                 transforms.ToTensor(),\n",
        "                 transforms.Normalize((0.4914, 0.4822, 0.4465), (0.2023, 0.1994, 0.2010)), # these values are obtained from google \n",
        "                 ])\n",
        "\n",
        "\n",
        "# define train loader \n",
        "cifar_training_dataset = CIFAR10(root = './conent', train = True, download = True, transform=transformations)\n",
        "train_100 = Subset(cifar_training_dataset, np.arange(100))\n",
        "train_dataloder = DataLoader(train_100, batch_size= 2 * batch_size, shuffle = True)\n",
        "# define test loader \n",
        "cifar_test_dataset = CIFAR10(root = './conent', train = False, download = True, transform=transforms.Compose([transforms.ToTensor(), transforms.Normalize((0.4914, 0.4822, 0.4465), (0.2023, 0.1994, 0.2010))]))\n",
        "test_dataloder = DataLoader(cifar_test_dataset, batch_size= 2*batch_size)"
      ]
    },
    {
      "cell_type": "code",
      "source": [
        "# define the model\n",
        "\n",
        "resnet = ResNet18()\n",
        "optimizer = torch.optim.SGD(resnet.parameters(), lr=0.05)\n",
        "scheduler = torch.optim.lr_scheduler.StepLR(optimizer, step_size = 16, gamma = 0.5)\n",
        "criterion = nn.CrossEntropyLoss()\n",
        "\n",
        "epochs = 76\n",
        "\n",
        "print(\" Start training \" + \".\"*20)\n",
        "train_accuracy , training_loss = train(resnet, optimizer, criterion,scheduler, train_dataloder, epochs, verbose = True ,verbose_fraq = 5, device = device)"
      ],
      "metadata": {
        "colab": {
          "base_uri": "https://localhost:8080/"
        },
        "id": "p94A5hB7jqrm",
        "outputId": "9e6161ea-2576-4cc1-b155-7ad1a578f871"
      },
      "execution_count": null,
      "outputs": [
        {
          "output_type": "stream",
          "name": "stdout",
          "text": [
            " Start training ....................\n",
            "Train Epoch: 0 : Loss : 3.81 / Accuracy : 14.0 %\n",
            "Train Epoch: 5 : Loss : 2.11 / Accuracy : 28.0 %\n",
            "Train Epoch: 10 : Loss : 2.26 / Accuracy : 23.0 %\n",
            "Train Epoch: 15 : Loss : 1.85 / Accuracy : 37.0 %\n",
            "Train Epoch: 20 : Loss : 1.42 / Accuracy : 54.0 %\n",
            "Train Epoch: 25 : Loss : 1.28 / Accuracy : 51.0 %\n",
            "Train Epoch: 30 : Loss : 0.96 / Accuracy : 58.0 %\n",
            "Train Epoch: 35 : Loss : 0.73 / Accuracy : 76.0 %\n",
            "Train Epoch: 40 : Loss : 0.57 / Accuracy : 81.0 %\n",
            "Train Epoch: 45 : Loss : 0.49 / Accuracy : 81.0 %\n",
            "Train Epoch: 50 : Loss : 0.42 / Accuracy : 88.0 %\n",
            "Train Epoch: 55 : Loss : 0.41 / Accuracy : 87.0 %\n",
            "Train Epoch: 60 : Loss : 0.29 / Accuracy : 90.0 %\n",
            "Train Epoch: 65 : Loss : 0.32 / Accuracy : 93.0 %\n",
            "Train Epoch: 70 : Loss : 0.21 / Accuracy : 94.0 %\n",
            "Train Epoch: 75 : Loss : 0.17 / Accuracy : 98.0 %\n"
          ]
        }
      ]
    },
    {
      "cell_type": "code",
      "source": [
        "# Now let's test our model \n",
        "print(\"Tesing the model\" + '.'*20)\n",
        "test_accuracy = test(resnet, test_dataloder, device = device)\n",
        "print(f\"test_accuracy is {test_accuracy} %\")"
      ],
      "metadata": {
        "colab": {
          "base_uri": "https://localhost:8080/"
        },
        "id": "1bIPdfgvqoYl",
        "outputId": "c8c156cc-bcf4-4490-9138-e0111067fc89"
      },
      "execution_count": null,
      "outputs": [
        {
          "output_type": "stream",
          "name": "stdout",
          "text": [
            "Tesing the model....................\n",
            "test_accuracy is 21.7 %\n"
          ]
        }
      ]
    },
    {
      "cell_type": "markdown",
      "source": [
        "| Model | Number of  epochs  | Train accuracy | Test accuracy |\n",
        "|------|------|------|------|\n",
        "|   ResNet18 (augmented samples)  | 76 | 98% | 21.7 % |"
      ],
      "metadata": {
        "id": "w77q4Lnewozd"
      }
    },
    {
      "cell_type": "markdown",
      "metadata": {
        "id": "HRUA5I8N_2hk"
      },
      "source": [
        "# Conclusions"
      ]
    },
    {
      "cell_type": "markdown",
      "metadata": {
        "id": "RmyiWAPJ_2hl"
      },
      "source": [
        "__Question 7 (5 points) :__ Write a short report explaining the pros and the cons of each method that you implemented. 25% of the grade of this project will correspond to this question, thus, it should be done carefully. In particular, please add a plot that will summarize all your numerical results."
      ]
    },
    {
      "cell_type": "markdown",
      "metadata": {
        "id": "zJ-v4Nev_2hl"
      },
      "source": [
        "The goal of this project is to learn how to deal with data scarcity problem. We were giving a dataset of 100 samples and the task is to build a model that will classify 32*32 images into 10 different classes. \n",
        "\n",
        "The naive idea is to use only these 100 samples, in a second time we used a pre-trained model and we fine tune it to better fit the giving task.In a final approach, we used data augmentation techniques. Following is a more details discussion about all the steps.\n",
        "\n",
        "The main problem with training with small data is overfitting, we can notice this in all the tested algorithms, we notice that all the training accuracies were greater than 90%.\n",
        "\n",
        "The first tested solution is **Transfer Learning**, for this purpose we followed the same approch as in the course, in a first stage we freezed all the pre-trained part and only train the additional dense layer, and in a second time we trained the whole architecture. the **pros** of this approach is the high increase in performances, mitigate the effect of small train dataset and also accelerate the convergence and reduce the training time compared to the case where the whole architecture was trained from scratch. Howerer, some of the **cons** of this approach is their limited flexibility, the pretrained model was build on a similar but yet a different task, the second problem related to this approch is the fact that the model still overfitts and transfer learning in general can also make interpretation more difficult.\n",
        "\n",
        "The second solution is **Data augmentation** , where the idea is to apply some transformations to the original images in order to build a new trainset with more samples. The main **cons** of this approach is that the constructed datase might not change very much from the original samples and thus the algorithm will see the same sample many times and thus increase the likelihood of overfitting. The other problem is that the augmented images might not represent the reality. However, this method have some **pros**, when the transformations are carefully selected, as it increases the data diversity and improve the model robustness by creating images under different conditions.  \n",
        "\n",
        "Bellow is a plot of all the results found so far by these tests: \n",
        "\n",
        "| Model | Number of  epochs  | Train accuracy | Test accuracy |\n",
        "|------|------|------|------|\n",
        "|   ResNet18 (100 samples)  | 20 | 100% | 22.64 % |\n",
        "|   ResNet18 (augmented samples)  | 76 | 98% | 21.7 % |\n",
        "|   ResNet50 (only last layer is trained)  | 55 | 85% | 22.23 % |\n",
        "|   ResNet50 (two training phases)  | 55 + 55 | 90 % | 24.68 % |\n",
        "|   ResNet50 ( resized + only last layer is trained)  | 55 | 99% | 53.46 % |\n",
        "|   ResNet50 (resized + two training phases)  | 55 + 55 | 100 % | 54.38 % |\n",
        "\n",
        "**Conclusion :** The best found method is transfer learning on ResNet50 with a resizing transformation. It is worth nothing that testing tranfer learning on other models, or using other data augmentation techniques might lead to better performances than the ones reported.\n"
      ]
    },
    {
      "cell_type": "markdown",
      "metadata": {
        "id": "sAGp7ddN_2hl"
      },
      "source": [
        "# Weak supervision"
      ]
    },
    {
      "cell_type": "markdown",
      "metadata": {
        "id": "wHQRLbC3_2hl"
      },
      "source": [
        "__Bonus \\[open\\] question (up to 3 points) :__ Pick a weakly supervised method that will potentially use $\\mathcal{X}\\cup\\mathcal{X}_{\\text{train}}$ to train a representation (a subset of $\\mathcal{X}$ is also fine). Evaluate it and report the accuracies. You should be careful in the choice of your method, in order to avoid heavy computational effort."
      ]
    },
    {
      "cell_type": "markdown",
      "metadata": {
        "id": "rbjhfIvN_2hl"
      },
      "source": [
        "For this part, we choosed to use `Uncertainty sampling`. The idea behind this method is to train the model and then predict the classes on unseen data, and ask the programmer to labelize the data for which the model was the most uncertain, we then merge these samples with the original trainset and re train the model. We are going to iteratively do so and print the evolution of the model's performance on the test dataset and report the results on a graph.\n",
        "\n",
        "For computaional resources reason, we choosed at each iteration to labelize 10 more samples until having 1000 training samples in total. Since the transfer learning solution showed the best results, we are going to use it as our predictive model."
      ]
    },
    {
      "cell_type": "code",
      "source": [
        "# Let's now define a function for the training strategy \n",
        "def train_pretrained_model(model, train_loader,test_loader ,epochs, verbose = True ,verbose_fraq = 5, device = device, plot_res = True, test_model = True):\n",
        "  \n",
        "  optimizer = torch.optim.SGD(model.parameters(), lr=0.1)\n",
        "  scheduler = torch.optim.lr_scheduler.StepLR(optimizer, step_size = 20, gamma = 0.2)\n",
        "  criterion = nn.CrossEntropyLoss()\n",
        "\n",
        "  for param in model.parameters():\n",
        "    param.requires_grad = False\n",
        "  for param in model.fc.parameters():\n",
        "    param.requires_grad = True \n",
        "  \n",
        "  print(\"Start first stage of training \" + '.'*50)\n",
        "  training_loss1, train_accuracy1 = train(model, optimizer, criterion,scheduler, train_dataloder, epochs, verbose = False ,verbose_fraq = 5, device = device)\n",
        "  if test_model:\n",
        "    test_accuracy = test(model , test_dataloder, device = device)\n",
        "    print(f\"test_accuracy after first stage is {test_accuracy} %\")\n",
        "\n",
        "  print(\"Start second stage of training \" + '.'*50)\n",
        "  for param in model.parameters():\n",
        "    param.requires_grad = True\n",
        "\n",
        "  training_loss2, train_accuracy2  = train(model, optimizer, criterion,scheduler, train_dataloder, epochs, verbose = False ,verbose_fraq = 5, device = device)\n",
        "  if test_model:\n",
        "    test_accuracy = test(model , test_dataloder, device = device)\n",
        "    print(f\"test_accuracy after second stage is {test_accuracy} %\")\n",
        "  if plot_res :\n",
        "    # let's plot the history of loss and accuracy functions\n",
        "    fig, axes = plt.subplots(1,2, figsize = (10,10))\n",
        "    axes[0].plot(np.arange(1,epochs+1), train_accuracy1, label = 'First stage')\n",
        "    axes[0].plot(np.arange(epochs+1,2 * epochs+1), train_accuracy2, label = 'Second stage')\n",
        "    axes[0].set_title('Training Accuracy')\n",
        "    axes[0].set_xlabel('epochs')\n",
        "\n",
        "    axes[1].plot(np.arange(1,epochs+1), training_loss1, label = 'First stage')\n",
        "    axes[1].plot(np.arange(epochs+1,2 * epochs+1), training_loss2, label = 'Second stage')\n",
        "    axes[1].set_title('Training Loss')\n",
        "    axes[1].set_xlabel('epochs')\n",
        "    fig.show()"
      ],
      "metadata": {
        "id": "x2kkYDLxxXJZ"
      },
      "execution_count": null,
      "outputs": []
    },
    {
      "cell_type": "code",
      "source": [
        "# now let's define a function to test the model \n",
        "def test(model, dataLoader, device = device):\n",
        "  model.eval()\n",
        "  predicted = []\n",
        "  correct = 0\n",
        "  num_samples = 0\n",
        "  for batch_idx, (x_batch, y_batch) in enumerate(dataLoader):\n",
        "    x_batch, y_batch = x_batch.to(device), y_batch.to(device)\n",
        "    output = model(x_batch)\n",
        "    predict = F.softmax(output, dim = 1) # Since softmax is \n",
        "    predict2 = output.argmax(dim = 1)\n",
        "    num_samples += len(y_batch)\n",
        "    correct += (predict2 == y_batch).sum()\n",
        "    \n",
        "    predicted += list(predict.detach().cpu().numpy())\n",
        "  return predicted,round(100 * correct.item() / num_samples, 2)"
      ],
      "metadata": {
        "id": "skJuxcLOshH4"
      },
      "execution_count": null,
      "outputs": []
    },
    {
      "cell_type": "code",
      "source": [
        "from tqdm import tqdm"
      ],
      "metadata": {
        "id": "yQNNAXrQ1OBF"
      },
      "execution_count": null,
      "outputs": []
    },
    {
      "cell_type": "code",
      "source": [
        "# define train loader \n",
        "batch_size = 20 \n",
        "epochs = 20\n",
        "\n",
        "cifar_training_dataset = CIFAR10(root = './conent', train = True, download = True, transform=transforms.ToTensor())\n",
        "cifar_training_dataset = Subset(cifar_training_dataset, np.arange(1000))"
      ],
      "metadata": {
        "colab": {
          "base_uri": "https://localhost:8080/",
          "height": 84,
          "referenced_widgets": [
            "0c60d2461fcf4e63949d7f29b6b19bae",
            "17eef0b6f5ca4fda8bc10e4529da5eca",
            "07b9c0f118f541ffb5d898cce4239fe3",
            "949aea08c9e946c7a09330ffa156538a",
            "441eacc0e47346919aa5f1c71e22b75e",
            "1e0ad40a7f9d42eda09f58a808b587e4",
            "c568e3a97dac42228222e996f9d86092",
            "5279ad1000bf4159910ff36a817aa687",
            "0d1feda1c5d3422daf82f6e96953c5c4",
            "149498df2c0e460e86d5101697c95406",
            "c55d9a44edf04c789962cdb894d76cc1"
          ]
        },
        "id": "3V-W2_QQ2sm8",
        "outputId": "d2521252-9de7-4d30-9444-61599bfefded"
      },
      "execution_count": null,
      "outputs": [
        {
          "output_type": "stream",
          "name": "stdout",
          "text": [
            "Downloading https://www.cs.toronto.edu/~kriz/cifar-10-python.tar.gz to ./conent/cifar-10-python.tar.gz\n"
          ]
        },
        {
          "output_type": "display_data",
          "data": {
            "text/plain": [
              "  0%|          | 0/170498071 [00:00<?, ?it/s]"
            ],
            "application/vnd.jupyter.widget-view+json": {
              "version_major": 2,
              "version_minor": 0,
              "model_id": "0c60d2461fcf4e63949d7f29b6b19bae"
            }
          },
          "metadata": {}
        },
        {
          "output_type": "stream",
          "name": "stdout",
          "text": [
            "Extracting ./conent/cifar-10-python.tar.gz to ./conent\n"
          ]
        }
      ]
    },
    {
      "cell_type": "code",
      "source": [
        "training_index = [i for i in range(100)]\n",
        "testing_index_set = [ i for i in range(100, 1000)]\n",
        "testing_accuracies = []\n",
        "for i in tqdm(range(90)):\n",
        "  train_iter = Subset(cifar_training_dataset, training_index)\n",
        "  train_dataloder = DataLoader(train_iter, batch_size= batch_size, shuffle = False)\n",
        "\n",
        "  test_iter = Subset(cifar_training_dataset, testing_index_set)\n",
        "  test_dataloder = DataLoader(test_iter, batch_size= batch_size, shuffle = False) \n",
        "\n",
        "  model = ResNet50_pretrained()\n",
        "  print('Start Training ' + '-'*50)\n",
        "  train_pretrained_model(model, train_dataloder,test_dataloder ,epochs, verbose = False ,verbose_fraq = 5, plot_res = False, test_model = False)\n",
        "  print('Start Testing ' + '-'*50)\n",
        "  predicted, acc = test(model, test_dataloder)\n",
        "  testing_accuracies.append(acc)\n",
        "  # now let's find the most uncertain points \n",
        "  predicted = np.max(predicted, axis = 1)\n",
        "  sorted_args = np.argsort(predicted)\n",
        "  new_index = [testing_index_set[x] for x in sorted_args[:10]]\n",
        "  for index in new_index:\n",
        "    testing_index_set.remove(index)\n",
        "    training_index.append(index)"
      ],
      "metadata": {
        "colab": {
          "base_uri": "https://localhost:8080/",
          "height": 1000,
          "referenced_widgets": [
            "b5d80b6b0d7c4e41b3af85de418af683",
            "c1a0248c90484d939c05aba6d343cf20",
            "5ca33776b0dd46e9bc028ec9f79e737a",
            "9ea76705b0314f73a0ac515aa298033b",
            "19d31fa8a4034b30bd07f843b1469ca4",
            "2d2212a92b93452596b4a4f847af64c1",
            "2cfe7aca7d574d22ae633b89aca8a0cf",
            "907898fcf65c4ad2866515b3f56831ac",
            "79f2ec21c1754764b4befc3f0e0fd811",
            "5ffa4e29d50f458b9d28253275b8b780",
            "9d7e1fe0e6fa40ef84e0c5b0ed4c47a8"
          ]
        },
        "id": "8nRRr1L-PMlf",
        "outputId": "2bb91a73-31e3-4d06-a0e2-baa61fd19feb"
      },
      "execution_count": null,
      "outputs": [
        {
          "output_type": "stream",
          "name": "stderr",
          "text": [
            "\r  0%|          | 0/90 [00:00<?, ?it/s]Downloading: \"https://download.pytorch.org/models/resnet50-0676ba61.pth\" to /root/.cache/torch/hub/checkpoints/resnet50-0676ba61.pth\n"
          ]
        },
        {
          "output_type": "display_data",
          "data": {
            "text/plain": [
              "  0%|          | 0.00/97.8M [00:00<?, ?B/s]"
            ],
            "application/vnd.jupyter.widget-view+json": {
              "version_major": 2,
              "version_minor": 0,
              "model_id": "b5d80b6b0d7c4e41b3af85de418af683"
            }
          },
          "metadata": {}
        },
        {
          "output_type": "stream",
          "name": "stdout",
          "text": [
            "Start Training --------------------------------------------------\n",
            "Start first stage of training ..................................................\n",
            "Start second stage of training ..................................................\n",
            "Start Testing --------------------------------------------------\n"
          ]
        },
        {
          "output_type": "stream",
          "name": "stderr",
          "text": [
            "\r  1%|          | 1/90 [00:19<29:37, 19.97s/it]"
          ]
        },
        {
          "output_type": "stream",
          "name": "stdout",
          "text": [
            "Start Training --------------------------------------------------\n",
            "Start first stage of training ..................................................\n",
            "Start second stage of training ..................................................\n",
            "Start Testing --------------------------------------------------\n"
          ]
        },
        {
          "output_type": "stream",
          "name": "stderr",
          "text": [
            "\r  2%|▏         | 2/90 [00:26<18:06, 12.34s/it]"
          ]
        },
        {
          "output_type": "stream",
          "name": "stdout",
          "text": [
            "Start Training --------------------------------------------------\n",
            "Start first stage of training ..................................................\n",
            "Start second stage of training ..................................................\n",
            "Start Testing --------------------------------------------------\n"
          ]
        },
        {
          "output_type": "stream",
          "name": "stderr",
          "text": [
            "\r  3%|▎         | 3/90 [00:33<13:51,  9.56s/it]"
          ]
        },
        {
          "output_type": "stream",
          "name": "stdout",
          "text": [
            "Start Training --------------------------------------------------\n",
            "Start first stage of training ..................................................\n",
            "Start second stage of training ..................................................\n",
            "Start Testing --------------------------------------------------\n"
          ]
        },
        {
          "output_type": "stream",
          "name": "stderr",
          "text": [
            "\r  4%|▍         | 4/90 [00:40<12:41,  8.85s/it]"
          ]
        },
        {
          "output_type": "stream",
          "name": "stdout",
          "text": [
            "Start Training --------------------------------------------------\n",
            "Start first stage of training ..................................................\n",
            "Start second stage of training ..................................................\n",
            "Start Testing --------------------------------------------------\n"
          ]
        },
        {
          "output_type": "stream",
          "name": "stderr",
          "text": [
            "\r  6%|▌         | 5/90 [00:48<11:38,  8.21s/it]"
          ]
        },
        {
          "output_type": "stream",
          "name": "stdout",
          "text": [
            "Start Training --------------------------------------------------\n",
            "Start first stage of training ..................................................\n",
            "Start second stage of training ..................................................\n",
            "Start Testing --------------------------------------------------\n"
          ]
        },
        {
          "output_type": "stream",
          "name": "stderr",
          "text": [
            "\r  7%|▋         | 6/90 [00:57<12:00,  8.58s/it]"
          ]
        },
        {
          "output_type": "stream",
          "name": "stdout",
          "text": [
            "Start Training --------------------------------------------------\n",
            "Start first stage of training ..................................................\n",
            "Start second stage of training ..................................................\n",
            "Start Testing --------------------------------------------------\n"
          ]
        },
        {
          "output_type": "stream",
          "name": "stderr",
          "text": [
            "\r  8%|▊         | 7/90 [01:06<11:59,  8.67s/it]"
          ]
        },
        {
          "output_type": "stream",
          "name": "stdout",
          "text": [
            "Start Training --------------------------------------------------\n",
            "Start first stage of training ..................................................\n",
            "Start second stage of training ..................................................\n",
            "Start Testing --------------------------------------------------\n"
          ]
        },
        {
          "output_type": "stream",
          "name": "stderr",
          "text": [
            "\r  9%|▉         | 8/90 [01:15<11:54,  8.71s/it]"
          ]
        },
        {
          "output_type": "stream",
          "name": "stdout",
          "text": [
            "Start Training --------------------------------------------------\n",
            "Start first stage of training ..................................................\n",
            "Start second stage of training ..................................................\n",
            "Start Testing --------------------------------------------------\n"
          ]
        },
        {
          "output_type": "stream",
          "name": "stderr",
          "text": [
            "\r 10%|█         | 9/90 [01:24<12:12,  9.04s/it]"
          ]
        },
        {
          "output_type": "stream",
          "name": "stdout",
          "text": [
            "Start Training --------------------------------------------------\n",
            "Start first stage of training ..................................................\n",
            "Start second stage of training ..................................................\n",
            "Start Testing --------------------------------------------------\n"
          ]
        },
        {
          "output_type": "stream",
          "name": "stderr",
          "text": [
            "\r 11%|█         | 10/90 [01:35<12:34,  9.44s/it]"
          ]
        },
        {
          "output_type": "stream",
          "name": "stdout",
          "text": [
            "Start Training --------------------------------------------------\n",
            "Start first stage of training ..................................................\n",
            "Start second stage of training ..................................................\n",
            "Start Testing --------------------------------------------------\n"
          ]
        },
        {
          "output_type": "stream",
          "name": "stderr",
          "text": [
            "\r 12%|█▏        | 11/90 [01:45<12:51,  9.76s/it]"
          ]
        },
        {
          "output_type": "stream",
          "name": "stdout",
          "text": [
            "Start Training --------------------------------------------------\n",
            "Start first stage of training ..................................................\n",
            "Start second stage of training ..................................................\n",
            "Start Testing --------------------------------------------------\n"
          ]
        },
        {
          "output_type": "stream",
          "name": "stderr",
          "text": [
            "\r 13%|█▎        | 12/90 [01:56<13:08, 10.11s/it]"
          ]
        },
        {
          "output_type": "stream",
          "name": "stdout",
          "text": [
            "Start Training --------------------------------------------------\n",
            "Start first stage of training ..................................................\n",
            "Start second stage of training ..................................................\n",
            "Start Testing --------------------------------------------------\n"
          ]
        },
        {
          "output_type": "stream",
          "name": "stderr",
          "text": [
            "\r 14%|█▍        | 13/90 [02:07<13:20, 10.40s/it]"
          ]
        },
        {
          "output_type": "stream",
          "name": "stdout",
          "text": [
            "Start Training --------------------------------------------------\n",
            "Start first stage of training ..................................................\n",
            "Start second stage of training ..................................................\n",
            "Start Testing --------------------------------------------------\n"
          ]
        },
        {
          "output_type": "stream",
          "name": "stderr",
          "text": [
            "\r 16%|█▌        | 14/90 [02:19<13:54, 10.98s/it]"
          ]
        },
        {
          "output_type": "stream",
          "name": "stdout",
          "text": [
            "Start Training --------------------------------------------------\n",
            "Start first stage of training ..................................................\n",
            "Start second stage of training ..................................................\n",
            "Start Testing --------------------------------------------------\n"
          ]
        },
        {
          "output_type": "stream",
          "name": "stderr",
          "text": [
            "\r 17%|█▋        | 15/90 [02:32<14:17, 11.43s/it]"
          ]
        },
        {
          "output_type": "stream",
          "name": "stdout",
          "text": [
            "Start Training --------------------------------------------------\n",
            "Start first stage of training ..................................................\n",
            "Start second stage of training ..................................................\n",
            "Start Testing --------------------------------------------------\n"
          ]
        },
        {
          "output_type": "stream",
          "name": "stderr",
          "text": [
            "\r 18%|█▊        | 16/90 [02:45<14:41, 11.91s/it]"
          ]
        },
        {
          "output_type": "stream",
          "name": "stdout",
          "text": [
            "Start Training --------------------------------------------------\n",
            "Start first stage of training ..................................................\n",
            "Start second stage of training ..................................................\n",
            "Start Testing --------------------------------------------------\n"
          ]
        },
        {
          "output_type": "stream",
          "name": "stderr",
          "text": [
            "\r 19%|█▉        | 17/90 [02:58<14:58, 12.30s/it]"
          ]
        },
        {
          "output_type": "stream",
          "name": "stdout",
          "text": [
            "Start Training --------------------------------------------------\n",
            "Start first stage of training ..................................................\n",
            "Start second stage of training ..................................................\n",
            "Start Testing --------------------------------------------------\n"
          ]
        },
        {
          "output_type": "stream",
          "name": "stderr",
          "text": [
            "\r 20%|██        | 18/90 [03:12<15:22, 12.81s/it]"
          ]
        },
        {
          "output_type": "stream",
          "name": "stdout",
          "text": [
            "Start Training --------------------------------------------------\n",
            "Start first stage of training ..................................................\n",
            "Start second stage of training ..................................................\n",
            "Start Testing --------------------------------------------------\n"
          ]
        },
        {
          "output_type": "stream",
          "name": "stderr",
          "text": [
            "\r 21%|██        | 19/90 [03:26<15:40, 13.24s/it]"
          ]
        },
        {
          "output_type": "stream",
          "name": "stdout",
          "text": [
            "Start Training --------------------------------------------------\n",
            "Start first stage of training ..................................................\n",
            "Start second stage of training ..................................................\n",
            "Start Testing --------------------------------------------------\n"
          ]
        },
        {
          "output_type": "stream",
          "name": "stderr",
          "text": [
            "\r 22%|██▏       | 20/90 [03:42<16:15, 13.93s/it]"
          ]
        },
        {
          "output_type": "stream",
          "name": "stdout",
          "text": [
            "Start Training --------------------------------------------------\n",
            "Start first stage of training ..................................................\n",
            "Start second stage of training ..................................................\n",
            "Start Testing --------------------------------------------------\n"
          ]
        },
        {
          "output_type": "stream",
          "name": "stderr",
          "text": [
            "\r 23%|██▎       | 21/90 [03:57<16:30, 14.35s/it]"
          ]
        },
        {
          "output_type": "stream",
          "name": "stdout",
          "text": [
            "Start Training --------------------------------------------------\n",
            "Start first stage of training ..................................................\n",
            "Start second stage of training ..................................................\n",
            "Start Testing --------------------------------------------------\n"
          ]
        },
        {
          "output_type": "stream",
          "name": "stderr",
          "text": [
            "\r 24%|██▍       | 22/90 [04:13<16:42, 14.74s/it]"
          ]
        },
        {
          "output_type": "stream",
          "name": "stdout",
          "text": [
            "Start Training --------------------------------------------------\n",
            "Start first stage of training ..................................................\n",
            "Start second stage of training ..................................................\n",
            "Start Testing --------------------------------------------------\n"
          ]
        },
        {
          "output_type": "stream",
          "name": "stderr",
          "text": [
            "\r 26%|██▌       | 23/90 [04:29<16:49, 15.06s/it]"
          ]
        },
        {
          "output_type": "stream",
          "name": "stdout",
          "text": [
            "Start Training --------------------------------------------------\n",
            "Start first stage of training ..................................................\n",
            "Start second stage of training ..................................................\n",
            "Start Testing --------------------------------------------------\n"
          ]
        },
        {
          "output_type": "stream",
          "name": "stderr",
          "text": [
            "\r 27%|██▋       | 24/90 [04:45<17:03, 15.50s/it]"
          ]
        },
        {
          "output_type": "stream",
          "name": "stdout",
          "text": [
            "Start Training --------------------------------------------------\n",
            "Start first stage of training ..................................................\n",
            "Start second stage of training ..................................................\n",
            "Start Testing --------------------------------------------------\n"
          ]
        },
        {
          "output_type": "stream",
          "name": "stderr",
          "text": [
            "\r 28%|██▊       | 25/90 [05:03<17:28, 16.13s/it]"
          ]
        },
        {
          "output_type": "stream",
          "name": "stdout",
          "text": [
            "Start Training --------------------------------------------------\n",
            "Start first stage of training ..................................................\n",
            "Start second stage of training ..................................................\n",
            "Start Testing --------------------------------------------------\n"
          ]
        },
        {
          "output_type": "stream",
          "name": "stderr",
          "text": [
            "\r 29%|██▉       | 26/90 [05:20<17:37, 16.52s/it]"
          ]
        },
        {
          "output_type": "stream",
          "name": "stdout",
          "text": [
            "Start Training --------------------------------------------------\n",
            "Start first stage of training ..................................................\n",
            "Start second stage of training ..................................................\n",
            "Start Testing --------------------------------------------------\n"
          ]
        },
        {
          "output_type": "stream",
          "name": "stderr",
          "text": [
            "\r 30%|███       | 27/90 [05:38<17:38, 16.79s/it]"
          ]
        },
        {
          "output_type": "stream",
          "name": "stdout",
          "text": [
            "Start Training --------------------------------------------------\n",
            "Start first stage of training ..................................................\n",
            "Start second stage of training ..................................................\n",
            "Start Testing --------------------------------------------------\n"
          ]
        },
        {
          "output_type": "stream",
          "name": "stderr",
          "text": [
            "\r 31%|███       | 28/90 [05:57<18:04, 17.49s/it]"
          ]
        },
        {
          "output_type": "stream",
          "name": "stdout",
          "text": [
            "Start Training --------------------------------------------------\n",
            "Start first stage of training ..................................................\n",
            "Start second stage of training ..................................................\n",
            "Start Testing --------------------------------------------------\n"
          ]
        },
        {
          "output_type": "stream",
          "name": "stderr",
          "text": [
            "\r 32%|███▏      | 29/90 [06:15<18:03, 17.76s/it]"
          ]
        },
        {
          "output_type": "stream",
          "name": "stdout",
          "text": [
            "Start Training --------------------------------------------------\n",
            "Start first stage of training ..................................................\n",
            "Start second stage of training ..................................................\n",
            "Start Testing --------------------------------------------------\n"
          ]
        },
        {
          "output_type": "stream",
          "name": "stderr",
          "text": [
            "\r 33%|███▎      | 30/90 [06:35<18:28, 18.48s/it]"
          ]
        },
        {
          "output_type": "stream",
          "name": "stdout",
          "text": [
            "Start Training --------------------------------------------------\n",
            "Start first stage of training ..................................................\n",
            "Start second stage of training ..................................................\n",
            "Start Testing --------------------------------------------------\n"
          ]
        },
        {
          "output_type": "stream",
          "name": "stderr",
          "text": [
            "\r 34%|███▍      | 31/90 [06:55<18:22, 18.69s/it]"
          ]
        },
        {
          "output_type": "stream",
          "name": "stdout",
          "text": [
            "Start Training --------------------------------------------------\n",
            "Start first stage of training ..................................................\n",
            "Start second stage of training ..................................................\n",
            "Start Testing --------------------------------------------------\n"
          ]
        },
        {
          "output_type": "stream",
          "name": "stderr",
          "text": [
            "\r 36%|███▌      | 32/90 [07:15<18:42, 19.36s/it]"
          ]
        },
        {
          "output_type": "stream",
          "name": "stdout",
          "text": [
            "Start Training --------------------------------------------------\n",
            "Start first stage of training ..................................................\n",
            "Start second stage of training ..................................................\n",
            "Start Testing --------------------------------------------------\n"
          ]
        },
        {
          "output_type": "stream",
          "name": "stderr",
          "text": [
            "\r 37%|███▋      | 33/90 [07:36<18:38, 19.62s/it]"
          ]
        },
        {
          "output_type": "stream",
          "name": "stdout",
          "text": [
            "Start Training --------------------------------------------------\n",
            "Start first stage of training ..................................................\n",
            "Start second stage of training ..................................................\n",
            "Start Testing --------------------------------------------------\n"
          ]
        },
        {
          "output_type": "stream",
          "name": "stderr",
          "text": [
            "\r 38%|███▊      | 34/90 [07:57<18:54, 20.25s/it]"
          ]
        },
        {
          "output_type": "stream",
          "name": "stdout",
          "text": [
            "Start Training --------------------------------------------------\n",
            "Start first stage of training ..................................................\n",
            "Start second stage of training ..................................................\n",
            "Start Testing --------------------------------------------------\n"
          ]
        },
        {
          "output_type": "stream",
          "name": "stderr",
          "text": [
            "\r 39%|███▉      | 35/90 [08:19<18:49, 20.53s/it]"
          ]
        },
        {
          "output_type": "stream",
          "name": "stdout",
          "text": [
            "Start Training --------------------------------------------------\n",
            "Start first stage of training ..................................................\n",
            "Start second stage of training ..................................................\n",
            "Start Testing --------------------------------------------------\n"
          ]
        },
        {
          "output_type": "stream",
          "name": "stderr",
          "text": [
            "\r 40%|████      | 36/90 [08:41<18:54, 21.01s/it]"
          ]
        },
        {
          "output_type": "stream",
          "name": "stdout",
          "text": [
            "Start Training --------------------------------------------------\n",
            "Start first stage of training ..................................................\n",
            "Start second stage of training ..................................................\n",
            "Start Testing --------------------------------------------------\n"
          ]
        },
        {
          "output_type": "stream",
          "name": "stderr",
          "text": [
            "\r 41%|████      | 37/90 [09:03<18:59, 21.50s/it]"
          ]
        },
        {
          "output_type": "stream",
          "name": "stdout",
          "text": [
            "Start Training --------------------------------------------------\n",
            "Start first stage of training ..................................................\n",
            "Start second stage of training ..................................................\n",
            "Start Testing --------------------------------------------------\n"
          ]
        },
        {
          "output_type": "stream",
          "name": "stderr",
          "text": [
            "\r 42%|████▏     | 38/90 [09:27<19:06, 22.06s/it]"
          ]
        },
        {
          "output_type": "stream",
          "name": "stdout",
          "text": [
            "Start Training --------------------------------------------------\n",
            "Start first stage of training ..................................................\n",
            "Start second stage of training ..................................................\n",
            "Start Testing --------------------------------------------------\n"
          ]
        },
        {
          "output_type": "stream",
          "name": "stderr",
          "text": [
            "\r 43%|████▎     | 39/90 [09:49<18:53, 22.22s/it]"
          ]
        },
        {
          "output_type": "stream",
          "name": "stdout",
          "text": [
            "Start Training --------------------------------------------------\n",
            "Start first stage of training ..................................................\n",
            "Start second stage of training ..................................................\n",
            "Start Testing --------------------------------------------------\n"
          ]
        },
        {
          "output_type": "stream",
          "name": "stderr",
          "text": [
            "\r 44%|████▍     | 40/90 [10:14<19:01, 22.84s/it]"
          ]
        },
        {
          "output_type": "stream",
          "name": "stdout",
          "text": [
            "Start Training --------------------------------------------------\n",
            "Start first stage of training ..................................................\n",
            "Start second stage of training ..................................................\n",
            "Start Testing --------------------------------------------------\n"
          ]
        },
        {
          "output_type": "stream",
          "name": "stderr",
          "text": [
            "\r 46%|████▌     | 41/90 [10:38<19:02, 23.31s/it]"
          ]
        },
        {
          "output_type": "stream",
          "name": "stdout",
          "text": [
            "Start Training --------------------------------------------------\n",
            "Start first stage of training ..................................................\n",
            "Start second stage of training ..................................................\n",
            "Start Testing --------------------------------------------------\n"
          ]
        },
        {
          "output_type": "stream",
          "name": "stderr",
          "text": [
            "\r 47%|████▋     | 42/90 [11:03<19:05, 23.87s/it]"
          ]
        },
        {
          "output_type": "stream",
          "name": "stdout",
          "text": [
            "Start Training --------------------------------------------------\n",
            "Start first stage of training ..................................................\n",
            "Start second stage of training ..................................................\n",
            "Start Testing --------------------------------------------------\n"
          ]
        },
        {
          "output_type": "stream",
          "name": "stderr",
          "text": [
            "\r 48%|████▊     | 43/90 [11:28<19:00, 24.28s/it]"
          ]
        },
        {
          "output_type": "stream",
          "name": "stdout",
          "text": [
            "Start Training --------------------------------------------------\n",
            "Start first stage of training ..................................................\n",
            "Start second stage of training ..................................................\n",
            "Start Testing --------------------------------------------------\n"
          ]
        },
        {
          "output_type": "stream",
          "name": "stderr",
          "text": [
            "\r 49%|████▉     | 44/90 [11:54<18:57, 24.74s/it]"
          ]
        },
        {
          "output_type": "stream",
          "name": "stdout",
          "text": [
            "Start Training --------------------------------------------------\n",
            "Start first stage of training ..................................................\n",
            "Start second stage of training ..................................................\n",
            "Start Testing --------------------------------------------------\n"
          ]
        },
        {
          "output_type": "stream",
          "name": "stderr",
          "text": [
            "\r 50%|█████     | 45/90 [12:20<18:46, 25.04s/it]"
          ]
        },
        {
          "output_type": "stream",
          "name": "stdout",
          "text": [
            "Start Training --------------------------------------------------\n",
            "Start first stage of training ..................................................\n",
            "Start second stage of training ..................................................\n",
            "Start Testing --------------------------------------------------\n"
          ]
        },
        {
          "output_type": "stream",
          "name": "stderr",
          "text": [
            "\r 51%|█████     | 46/90 [12:46<18:41, 25.48s/it]"
          ]
        },
        {
          "output_type": "stream",
          "name": "stdout",
          "text": [
            "Start Training --------------------------------------------------\n",
            "Start first stage of training ..................................................\n",
            "Start second stage of training ..................................................\n",
            "Start Testing --------------------------------------------------\n"
          ]
        },
        {
          "output_type": "stream",
          "name": "stderr",
          "text": [
            "\r 52%|█████▏    | 47/90 [13:13<18:33, 25.89s/it]"
          ]
        },
        {
          "output_type": "stream",
          "name": "stdout",
          "text": [
            "Start Training --------------------------------------------------\n",
            "Start first stage of training ..................................................\n",
            "Start second stage of training ..................................................\n",
            "Start Testing --------------------------------------------------\n"
          ]
        },
        {
          "output_type": "stream",
          "name": "stderr",
          "text": [
            "\r 53%|█████▎    | 48/90 [13:41<18:28, 26.40s/it]"
          ]
        },
        {
          "output_type": "stream",
          "name": "stdout",
          "text": [
            "Start Training --------------------------------------------------\n",
            "Start first stage of training ..................................................\n",
            "Start second stage of training ..................................................\n",
            "Start Testing --------------------------------------------------\n"
          ]
        },
        {
          "output_type": "stream",
          "name": "stderr",
          "text": [
            "\r 54%|█████▍    | 49/90 [14:09<18:19, 26.81s/it]"
          ]
        },
        {
          "output_type": "stream",
          "name": "stdout",
          "text": [
            "Start Training --------------------------------------------------\n",
            "Start first stage of training ..................................................\n",
            "Start second stage of training ..................................................\n",
            "Start Testing --------------------------------------------------\n"
          ]
        },
        {
          "output_type": "stream",
          "name": "stderr",
          "text": [
            "\r 56%|█████▌    | 50/90 [14:37<18:13, 27.34s/it]"
          ]
        },
        {
          "output_type": "stream",
          "name": "stdout",
          "text": [
            "Start Training --------------------------------------------------\n",
            "Start first stage of training ..................................................\n",
            "Start second stage of training ..................................................\n",
            "Start Testing --------------------------------------------------\n"
          ]
        },
        {
          "output_type": "stream",
          "name": "stderr",
          "text": [
            "\r 57%|█████▋    | 51/90 [15:06<18:02, 27.74s/it]"
          ]
        },
        {
          "output_type": "stream",
          "name": "stdout",
          "text": [
            "Start Training --------------------------------------------------\n",
            "Start first stage of training ..................................................\n",
            "Start second stage of training ..................................................\n",
            "Start Testing --------------------------------------------------\n"
          ]
        },
        {
          "output_type": "stream",
          "name": "stderr",
          "text": [
            "\r 58%|█████▊    | 52/90 [15:36<18:01, 28.45s/it]"
          ]
        },
        {
          "output_type": "stream",
          "name": "stdout",
          "text": [
            "Start Training --------------------------------------------------\n",
            "Start first stage of training ..................................................\n",
            "Start second stage of training ..................................................\n",
            "Start Testing --------------------------------------------------\n"
          ]
        },
        {
          "output_type": "stream",
          "name": "stderr",
          "text": [
            "\r 59%|█████▉    | 53/90 [16:06<17:44, 28.76s/it]"
          ]
        },
        {
          "output_type": "stream",
          "name": "stdout",
          "text": [
            "Start Training --------------------------------------------------\n",
            "Start first stage of training ..................................................\n",
            "Start second stage of training ..................................................\n",
            "Start Testing --------------------------------------------------\n"
          ]
        },
        {
          "output_type": "stream",
          "name": "stderr",
          "text": [
            "\r 60%|██████    | 54/90 [16:36<17:32, 29.25s/it]"
          ]
        },
        {
          "output_type": "stream",
          "name": "stdout",
          "text": [
            "Start Training --------------------------------------------------\n",
            "Start first stage of training ..................................................\n",
            "Start second stage of training ..................................................\n",
            "Start Testing --------------------------------------------------\n"
          ]
        },
        {
          "output_type": "stream",
          "name": "stderr",
          "text": [
            "\r 61%|██████    | 55/90 [17:07<17:21, 29.75s/it]"
          ]
        },
        {
          "output_type": "stream",
          "name": "stdout",
          "text": [
            "Start Training --------------------------------------------------\n",
            "Start first stage of training ..................................................\n",
            "Start second stage of training ..................................................\n",
            "Start Testing --------------------------------------------------\n"
          ]
        },
        {
          "output_type": "stream",
          "name": "stderr",
          "text": [
            "\r 62%|██████▏   | 56/90 [17:38<17:09, 30.27s/it]"
          ]
        },
        {
          "output_type": "stream",
          "name": "stdout",
          "text": [
            "Start Training --------------------------------------------------\n",
            "Start first stage of training ..................................................\n",
            "Start second stage of training ..................................................\n",
            "Start Testing --------------------------------------------------\n"
          ]
        },
        {
          "output_type": "stream",
          "name": "stderr",
          "text": [
            "\r 63%|██████▎   | 57/90 [18:10<16:48, 30.57s/it]"
          ]
        },
        {
          "output_type": "stream",
          "name": "stdout",
          "text": [
            "Start Training --------------------------------------------------\n",
            "Start first stage of training ..................................................\n",
            "Start second stage of training ..................................................\n"
          ]
        },
        {
          "output_type": "stream",
          "name": "stderr",
          "text": [
            "\r 64%|██████▍   | 58/90 [18:43<16:40, 31.28s/it]"
          ]
        },
        {
          "output_type": "stream",
          "name": "stdout",
          "text": [
            "Start Testing --------------------------------------------------\n",
            "Start Training --------------------------------------------------\n",
            "Start first stage of training ..................................................\n",
            "Start second stage of training ..................................................\n"
          ]
        },
        {
          "output_type": "stream",
          "name": "stderr",
          "text": [
            "\r 66%|██████▌   | 59/90 [19:15<16:16, 31.50s/it]"
          ]
        },
        {
          "output_type": "stream",
          "name": "stdout",
          "text": [
            "Start Testing --------------------------------------------------\n",
            "Start Training --------------------------------------------------\n",
            "Start first stage of training ..................................................\n",
            "Start second stage of training ..................................................\n"
          ]
        },
        {
          "output_type": "stream",
          "name": "stderr",
          "text": [
            "\r 67%|██████▋   | 60/90 [19:48<16:04, 32.16s/it]"
          ]
        },
        {
          "output_type": "stream",
          "name": "stdout",
          "text": [
            "Start Testing --------------------------------------------------\n",
            "Start Training --------------------------------------------------\n",
            "Start first stage of training ..................................................\n",
            "Start second stage of training ..................................................\n"
          ]
        },
        {
          "output_type": "stream",
          "name": "stderr",
          "text": [
            "\r 68%|██████▊   | 61/90 [20:21<15:42, 32.49s/it]"
          ]
        },
        {
          "output_type": "stream",
          "name": "stdout",
          "text": [
            "Start Testing --------------------------------------------------\n",
            "Start Training --------------------------------------------------\n",
            "Start first stage of training ..................................................\n",
            "Start second stage of training ..................................................\n"
          ]
        },
        {
          "output_type": "stream",
          "name": "stderr",
          "text": [
            "\r 69%|██████▉   | 62/90 [20:56<15:27, 33.13s/it]"
          ]
        },
        {
          "output_type": "stream",
          "name": "stdout",
          "text": [
            "Start Testing --------------------------------------------------\n",
            "Start Training --------------------------------------------------\n",
            "Start first stage of training ..................................................\n",
            "Start second stage of training ..................................................\n",
            "Start Testing --------------------------------------------------\n"
          ]
        },
        {
          "output_type": "stream",
          "name": "stderr",
          "text": [
            "\r 70%|███████   | 63/90 [21:30<15:04, 33.50s/it]"
          ]
        },
        {
          "output_type": "stream",
          "name": "stdout",
          "text": [
            "Start Training --------------------------------------------------\n",
            "Start first stage of training ..................................................\n",
            "Start second stage of training ..................................................\n"
          ]
        },
        {
          "output_type": "stream",
          "name": "stderr",
          "text": [
            "\r 71%|███████   | 64/90 [22:06<14:43, 33.97s/it]"
          ]
        },
        {
          "output_type": "stream",
          "name": "stdout",
          "text": [
            "Start Testing --------------------------------------------------\n",
            "Start Training --------------------------------------------------\n",
            "Start first stage of training ..................................................\n",
            "Start second stage of training ..................................................\n"
          ]
        },
        {
          "output_type": "stream",
          "name": "stderr",
          "text": [
            "\r 72%|███████▏  | 65/90 [22:41<14:23, 34.55s/it]"
          ]
        },
        {
          "output_type": "stream",
          "name": "stdout",
          "text": [
            "Start Testing --------------------------------------------------\n",
            "Start Training --------------------------------------------------\n",
            "Start first stage of training ..................................................\n",
            "Start second stage of training ..................................................\n",
            "Start Testing --------------------------------------------------\n"
          ]
        },
        {
          "output_type": "stream",
          "name": "stderr",
          "text": [
            "\r 73%|███████▎  | 66/90 [23:18<14:01, 35.06s/it]"
          ]
        },
        {
          "output_type": "stream",
          "name": "stdout",
          "text": [
            "Start Training --------------------------------------------------\n",
            "Start first stage of training ..................................................\n",
            "Start second stage of training ..................................................\n"
          ]
        },
        {
          "output_type": "stream",
          "name": "stderr",
          "text": [
            "\r 74%|███████▍  | 67/90 [23:53<13:30, 35.24s/it]"
          ]
        },
        {
          "output_type": "stream",
          "name": "stdout",
          "text": [
            "Start Testing --------------------------------------------------\n",
            "Start Training --------------------------------------------------\n",
            "Start first stage of training ..................................................\n",
            "Start second stage of training ..................................................\n"
          ]
        },
        {
          "output_type": "stream",
          "name": "stderr",
          "text": [
            "\r 76%|███████▌  | 68/90 [24:30<13:07, 35.80s/it]"
          ]
        },
        {
          "output_type": "stream",
          "name": "stdout",
          "text": [
            "Start Testing --------------------------------------------------\n",
            "Start Training --------------------------------------------------\n",
            "Start first stage of training ..................................................\n",
            "Start second stage of training ..................................................\n"
          ]
        },
        {
          "output_type": "stream",
          "name": "stderr",
          "text": [
            "\r 77%|███████▋  | 69/90 [25:08<12:40, 36.22s/it]"
          ]
        },
        {
          "output_type": "stream",
          "name": "stdout",
          "text": [
            "Start Testing --------------------------------------------------\n",
            "Start Training --------------------------------------------------\n",
            "Start first stage of training ..................................................\n",
            "Start second stage of training ..................................................\n"
          ]
        },
        {
          "output_type": "stream",
          "name": "stderr",
          "text": [
            "\r 78%|███████▊  | 70/90 [25:46<12:15, 36.78s/it]"
          ]
        },
        {
          "output_type": "stream",
          "name": "stdout",
          "text": [
            "Start Testing --------------------------------------------------\n",
            "Start Training --------------------------------------------------\n",
            "Start first stage of training ..................................................\n",
            "Start second stage of training ..................................................\n"
          ]
        },
        {
          "output_type": "stream",
          "name": "stderr",
          "text": [
            "\r 79%|███████▉  | 71/90 [26:24<11:46, 37.18s/it]"
          ]
        },
        {
          "output_type": "stream",
          "name": "stdout",
          "text": [
            "Start Testing --------------------------------------------------\n",
            "Start Training --------------------------------------------------\n",
            "Start first stage of training ..................................................\n",
            "Start second stage of training ..................................................\n"
          ]
        },
        {
          "output_type": "stream",
          "name": "stderr",
          "text": [
            "\r 80%|████████  | 72/90 [27:03<11:19, 37.76s/it]"
          ]
        },
        {
          "output_type": "stream",
          "name": "stdout",
          "text": [
            "Start Testing --------------------------------------------------\n",
            "Start Training --------------------------------------------------\n",
            "Start first stage of training ..................................................\n",
            "Start second stage of training ..................................................\n"
          ]
        },
        {
          "output_type": "stream",
          "name": "stderr",
          "text": [
            "\r 81%|████████  | 73/90 [27:42<10:47, 38.09s/it]"
          ]
        },
        {
          "output_type": "stream",
          "name": "stdout",
          "text": [
            "Start Testing --------------------------------------------------\n",
            "Start Training --------------------------------------------------\n",
            "Start first stage of training ..................................................\n",
            "Start second stage of training ..................................................\n"
          ]
        },
        {
          "output_type": "stream",
          "name": "stderr",
          "text": [
            "\r 82%|████████▏ | 74/90 [28:22<10:17, 38.60s/it]"
          ]
        },
        {
          "output_type": "stream",
          "name": "stdout",
          "text": [
            "Start Testing --------------------------------------------------\n",
            "Start Training --------------------------------------------------\n",
            "Start first stage of training ..................................................\n",
            "Start second stage of training ..................................................\n"
          ]
        },
        {
          "output_type": "stream",
          "name": "stderr",
          "text": [
            "\r 83%|████████▎ | 75/90 [29:01<09:43, 38.93s/it]"
          ]
        },
        {
          "output_type": "stream",
          "name": "stdout",
          "text": [
            "Start Testing --------------------------------------------------\n",
            "Start Training --------------------------------------------------\n",
            "Start first stage of training ..................................................\n",
            "Start second stage of training ..................................................\n"
          ]
        },
        {
          "output_type": "stream",
          "name": "stderr",
          "text": [
            "\r 84%|████████▍ | 76/90 [29:42<09:12, 39.45s/it]"
          ]
        },
        {
          "output_type": "stream",
          "name": "stdout",
          "text": [
            "Start Testing --------------------------------------------------\n",
            "Start Training --------------------------------------------------\n",
            "Start first stage of training ..................................................\n",
            "Start second stage of training ..................................................\n"
          ]
        },
        {
          "output_type": "stream",
          "name": "stderr",
          "text": [
            "\r 86%|████████▌ | 77/90 [30:23<08:38, 39.86s/it]"
          ]
        },
        {
          "output_type": "stream",
          "name": "stdout",
          "text": [
            "Start Testing --------------------------------------------------\n",
            "Start Training --------------------------------------------------\n",
            "Start first stage of training ..................................................\n",
            "Start second stage of training ..................................................\n"
          ]
        },
        {
          "output_type": "stream",
          "name": "stderr",
          "text": [
            "\r 87%|████████▋ | 78/90 [31:04<08:03, 40.32s/it]"
          ]
        },
        {
          "output_type": "stream",
          "name": "stdout",
          "text": [
            "Start Testing --------------------------------------------------\n",
            "Start Training --------------------------------------------------\n",
            "Start first stage of training ..................................................\n",
            "Start second stage of training ..................................................\n"
          ]
        },
        {
          "output_type": "stream",
          "name": "stderr",
          "text": [
            "\r 88%|████████▊ | 79/90 [31:46<07:27, 40.71s/it]"
          ]
        },
        {
          "output_type": "stream",
          "name": "stdout",
          "text": [
            "Start Testing --------------------------------------------------\n",
            "Start Training --------------------------------------------------\n",
            "Start first stage of training ..................................................\n",
            "Start second stage of training ..................................................\n"
          ]
        },
        {
          "output_type": "stream",
          "name": "stderr",
          "text": [
            "\r 89%|████████▉ | 80/90 [32:28<06:52, 41.24s/it]"
          ]
        },
        {
          "output_type": "stream",
          "name": "stdout",
          "text": [
            "Start Testing --------------------------------------------------\n",
            "Start Training --------------------------------------------------\n",
            "Start first stage of training ..................................................\n",
            "Start second stage of training ..................................................\n"
          ]
        },
        {
          "output_type": "stream",
          "name": "stderr",
          "text": [
            "\r 90%|█████████ | 81/90 [33:11<06:15, 41.75s/it]"
          ]
        },
        {
          "output_type": "stream",
          "name": "stdout",
          "text": [
            "Start Testing --------------------------------------------------\n",
            "Start Training --------------------------------------------------\n",
            "Start first stage of training ..................................................\n",
            "Start second stage of training ..................................................\n"
          ]
        },
        {
          "output_type": "stream",
          "name": "stderr",
          "text": [
            "\r 91%|█████████ | 82/90 [33:55<05:38, 42.29s/it]"
          ]
        },
        {
          "output_type": "stream",
          "name": "stdout",
          "text": [
            "Start Testing --------------------------------------------------\n",
            "Start Training --------------------------------------------------\n",
            "Start first stage of training ..................................................\n",
            "Start second stage of training ..................................................\n"
          ]
        },
        {
          "output_type": "stream",
          "name": "stderr",
          "text": [
            "\r 92%|█████████▏| 83/90 [34:38<04:58, 42.59s/it]"
          ]
        },
        {
          "output_type": "stream",
          "name": "stdout",
          "text": [
            "Start Testing --------------------------------------------------\n",
            "Start Training --------------------------------------------------\n",
            "Start first stage of training ..................................................\n",
            "Start second stage of training ..................................................\n"
          ]
        },
        {
          "output_type": "stream",
          "name": "stderr",
          "text": [
            "\r 93%|█████████▎| 84/90 [35:23<04:18, 43.14s/it]"
          ]
        },
        {
          "output_type": "stream",
          "name": "stdout",
          "text": [
            "Start Testing --------------------------------------------------\n",
            "Start Training --------------------------------------------------\n",
            "Start first stage of training ..................................................\n",
            "Start second stage of training ..................................................\n"
          ]
        },
        {
          "output_type": "stream",
          "name": "stderr",
          "text": [
            "\r 94%|█████████▍| 85/90 [36:07<03:38, 43.64s/it]"
          ]
        },
        {
          "output_type": "stream",
          "name": "stdout",
          "text": [
            "Start Testing --------------------------------------------------\n",
            "Start Training --------------------------------------------------\n",
            "Start first stage of training ..................................................\n",
            "Start second stage of training ..................................................\n"
          ]
        },
        {
          "output_type": "stream",
          "name": "stderr",
          "text": [
            "\r 96%|█████████▌| 86/90 [36:52<02:56, 44.07s/it]"
          ]
        },
        {
          "output_type": "stream",
          "name": "stdout",
          "text": [
            "Start Testing --------------------------------------------------\n",
            "Start Training --------------------------------------------------\n",
            "Start first stage of training ..................................................\n",
            "Start second stage of training ..................................................\n"
          ]
        },
        {
          "output_type": "stream",
          "name": "stderr",
          "text": [
            "\r 97%|█████████▋| 87/90 [37:38<02:13, 44.58s/it]"
          ]
        },
        {
          "output_type": "stream",
          "name": "stdout",
          "text": [
            "Start Testing --------------------------------------------------\n",
            "Start Training --------------------------------------------------\n",
            "Start first stage of training ..................................................\n",
            "Start second stage of training ..................................................\n"
          ]
        },
        {
          "output_type": "stream",
          "name": "stderr",
          "text": [
            "\r 98%|█████████▊| 88/90 [38:24<01:29, 44.92s/it]"
          ]
        },
        {
          "output_type": "stream",
          "name": "stdout",
          "text": [
            "Start Testing --------------------------------------------------\n",
            "Start Training --------------------------------------------------\n",
            "Start first stage of training ..................................................\n",
            "Start second stage of training ..................................................\n"
          ]
        },
        {
          "output_type": "stream",
          "name": "stderr",
          "text": [
            "\r 99%|█████████▉| 89/90 [39:10<00:45, 45.39s/it]"
          ]
        },
        {
          "output_type": "stream",
          "name": "stdout",
          "text": [
            "Start Testing --------------------------------------------------\n",
            "Start Training --------------------------------------------------\n",
            "Start first stage of training ..................................................\n",
            "Start second stage of training ..................................................\n"
          ]
        },
        {
          "output_type": "stream",
          "name": "stderr",
          "text": [
            "100%|██████████| 90/90 [39:57<00:00, 26.64s/it]"
          ]
        },
        {
          "output_type": "stream",
          "name": "stdout",
          "text": [
            "Start Testing --------------------------------------------------\n"
          ]
        },
        {
          "output_type": "stream",
          "name": "stderr",
          "text": [
            "\n"
          ]
        }
      ]
    },
    {
      "cell_type": "code",
      "source": [
        "plt.plot(testing_accuracies)"
      ],
      "metadata": {
        "colab": {
          "base_uri": "https://localhost:8080/",
          "height": 282
        },
        "id": "pMFcAyc5vxhN",
        "outputId": "8d76c0c8-8e64-42bc-9a68-fd795a6ba628"
      },
      "execution_count": null,
      "outputs": [
        {
          "output_type": "execute_result",
          "data": {
            "text/plain": [
              "[<matplotlib.lines.Line2D at 0x7f5e901c1520>]"
            ]
          },
          "metadata": {},
          "execution_count": 21
        },
        {
          "output_type": "display_data",
          "data": {
            "text/plain": [
              "<Figure size 432x288 with 1 Axes>"
            ],
            "image/png": "[encoded data removed]"
          },
          "metadata": {
            "needs_background": "light"
          }
        }
      ]
    },
    {
      "cell_type": "markdown",
      "source": [
        "**Conclusion :** We can notice that the accuracy is increasing with this method by choosing the right set of samples to train on."
      ],
      "metadata": {
        "id": "pgTNSKKLigMP"
      }
    }
  ],
  "metadata": {
    "kernelspec": {
      "display_name": "Python 3",
      "language": "python",
      "name": "python3"
    },
    "language_info": {
      "codemirror_mode": {
        "name": "ipython",
        "version": 3
      },
      "file_extension": ".py",
      "mimetype": "text/x-python",
      "name": "python",
      "nbconvert_exporter": "python",
      "pygments_lexer": "ipython3",
      "version": "3.7.9"
    },
    "colab": {
      "provenance": []
    },
    "accelerator": "GPU",
    "gpuClass": "standard",
    "widgets": {
      "application/vnd.jupyter.widget-state+json": {
        "0c60d2461fcf4e63949d7f29b6b19bae": {
          "model_module": "@jupyter-widgets/controls",
          "model_name": "HBoxModel",
          "model_module_version": "1.5.0",
          "state": {
            "_dom_classes": [],
            "_model_module": "@jupyter-widgets/controls",
            "_model_module_version": "1.5.0",
            "_model_name": "HBoxModel",
            "_view_count": null,
            "_view_module": "@jupyter-widgets/controls",
            "_view_module_version": "1.5.0",
            "_view_name": "HBoxView",
            "box_style": "",
            "children": [
              "IPY_MODEL_17eef0b6f5ca4fda8bc10e4529da5eca",
              "IPY_MODEL_07b9c0f118f541ffb5d898cce4239fe3",
              "IPY_MODEL_949aea08c9e946c7a09330ffa156538a"
            ],
            "layout": "IPY_MODEL_441eacc0e47346919aa5f1c71e22b75e"
          }
        },
        "17eef0b6f5ca4fda8bc10e4529da5eca": {
          "model_module": "@jupyter-widgets/controls",
          "model_name": "HTMLModel",
          "model_module_version": "1.5.0",
          "state": {
            "_dom_classes": [],
            "_model_module": "@jupyter-widgets/controls",
            "_model_module_version": "1.5.0",
            "_model_name": "HTMLModel",
            "_view_count": null,
            "_view_module": "@jupyter-widgets/controls",
            "_view_module_version": "1.5.0",
            "_view_name": "HTMLView",
            "description": "",
            "description_tooltip": null,
            "layout": "IPY_MODEL_1e0ad40a7f9d42eda09f58a808b587e4",
            "placeholder": "​",
            "style": "IPY_MODEL_c568e3a97dac42228222e996f9d86092",
            "value": "100%"
          }
        },
        "07b9c0f118f541ffb5d898cce4239fe3": {
          "model_module": "@jupyter-widgets/controls",
          "model_name": "FloatProgressModel",
          "model_module_version": "1.5.0",
          "state": {
            "_dom_classes": [],
            "_model_module": "@jupyter-widgets/controls",
            "_model_module_version": "1.5.0",
            "_model_name": "FloatProgressModel",
            "_view_count": null,
            "_view_module": "@jupyter-widgets/controls",
            "_view_module_version": "1.5.0",
            "_view_name": "ProgressView",
            "bar_style": "success",
            "description": "",
            "description_tooltip": null,
            "layout": "IPY_MODEL_5279ad1000bf4159910ff36a817aa687",
            "max": 170498071,
            "min": 0,
            "orientation": "horizontal",
            "style": "IPY_MODEL_0d1feda1c5d3422daf82f6e96953c5c4",
            "value": 170498071
          }
        },
        "949aea08c9e946c7a09330ffa156538a": {
          "model_module": "@jupyter-widgets/controls",
          "model_name": "HTMLModel",
          "model_module_version": "1.5.0",
          "state": {
            "_dom_classes": [],
            "_model_module": "@jupyter-widgets/controls",
            "_model_module_version": "1.5.0",
            "_model_name": "HTMLModel",
            "_view_count": null,
            "_view_module": "@jupyter-widgets/controls",
            "_view_module_version": "1.5.0",
            "_view_name": "HTMLView",
            "description": "",
            "description_tooltip": null,
            "layout": "IPY_MODEL_149498df2c0e460e86d5101697c95406",
            "placeholder": "​",
            "style": "IPY_MODEL_c55d9a44edf04c789962cdb894d76cc1",
            "value": " 170498071/170498071 [00:03&lt;00:00, 53386688.21it/s]"
          }
        },
        "441eacc0e47346919aa5f1c71e22b75e": {
          "model_module": "@jupyter-widgets/base",
          "model_name": "LayoutModel",
          "model_module_version": "1.2.0",
          "state": {
            "_model_module": "@jupyter-widgets/base",
            "_model_module_version": "1.2.0",
            "_model_name": "LayoutModel",
            "_view_count": null,
            "_view_module": "@jupyter-widgets/base",
            "_view_module_version": "1.2.0",
            "_view_name": "LayoutView",
            "align_content": null,
            "align_items": null,
            "align_self": null,
            "border": null,
            "bottom": null,
            "display": null,
            "flex": null,
            "flex_flow": null,
            "grid_area": null,
            "grid_auto_columns": null,
            "grid_auto_flow": null,
            "grid_auto_rows": null,
            "grid_column": null,
            "grid_gap": null,
            "grid_row": null,
            "grid_template_areas": null,
            "grid_template_columns": null,
            "grid_template_rows": null,
            "height": null,
            "justify_content": null,
            "justify_items": null,
            "left": null,
            "margin": null,
            "max_height": null,
            "max_width": null,
            "min_height": null,
            "min_width": null,
            "object_fit": null,
            "object_position": null,
            "order": null,
            "overflow": null,
            "overflow_x": null,
            "overflow_y": null,
            "padding": null,
            "right": null,
            "top": null,
            "visibility": null,
            "width": null
          }
        },
        "1e0ad40a7f9d42eda09f58a808b587e4": {
          "model_module": "@jupyter-widgets/base",
          "model_name": "LayoutModel",
          "model_module_version": "1.2.0",
          "state": {
            "_model_module": "@jupyter-widgets/base",
            "_model_module_version": "1.2.0",
            "_model_name": "LayoutModel",
            "_view_count": null,
            "_view_module": "@jupyter-widgets/base",
            "_view_module_version": "1.2.0",
            "_view_name": "LayoutView",
            "align_content": null,
            "align_items": null,
            "align_self": null,
            "border": null,
            "bottom": null,
            "display": null,
            "flex": null,
            "flex_flow": null,
            "grid_area": null,
            "grid_auto_columns": null,
            "grid_auto_flow": null,
            "grid_auto_rows": null,
            "grid_column": null,
            "grid_gap": null,
            "grid_row": null,
            "grid_template_areas": null,
            "grid_template_columns": null,
            "grid_template_rows": null,
            "height": null,
            "justify_content": null,
            "justify_items": null,
            "left": null,
            "margin": null,
            "max_height": null,
            "max_width": null,
            "min_height": null,
            "min_width": null,
            "object_fit": null,
            "object_position": null,
            "order": null,
            "overflow": null,
            "overflow_x": null,
            "overflow_y": null,
            "padding": null,
            "right": null,
            "top": null,
            "visibility": null,
            "width": null
          }
        },
        "c568e3a97dac42228222e996f9d86092": {
          "model_module": "@jupyter-widgets/controls",
          "model_name": "DescriptionStyleModel",
          "model_module_version": "1.5.0",
          "state": {
            "_model_module": "@jupyter-widgets/controls",
            "_model_module_version": "1.5.0",
            "_model_name": "DescriptionStyleModel",
            "_view_count": null,
            "_view_module": "@jupyter-widgets/base",
            "_view_module_version": "1.2.0",
            "_view_name": "StyleView",
            "description_width": ""
          }
        },
        "5279ad1000bf4159910ff36a817aa687": {
          "model_module": "@jupyter-widgets/base",
          "model_name": "LayoutModel",
          "model_module_version": "1.2.0",
          "state": {
            "_model_module": "@jupyter-widgets/base",
            "_model_module_version": "1.2.0",
            "_model_name": "LayoutModel",
            "_view_count": null,
            "_view_module": "@jupyter-widgets/base",
            "_view_module_version": "1.2.0",
            "_view_name": "LayoutView",
            "align_content": null,
            "align_items": null,
            "align_self": null,
            "border": null,
            "bottom": null,
            "display": null,
            "flex": null,
            "flex_flow": null,
            "grid_area": null,
            "grid_auto_columns": null,
            "grid_auto_flow": null,
            "grid_auto_rows": null,
            "grid_column": null,
            "grid_gap": null,
            "grid_row": null,
            "grid_template_areas": null,
            "grid_template_columns": null,
            "grid_template_rows": null,
            "height": null,
            "justify_content": null,
            "justify_items": null,
            "left": null,
            "margin": null,
            "max_height": null,
            "max_width": null,
            "min_height": null,
            "min_width": null,
            "object_fit": null,
            "object_position": null,
            "order": null,
            "overflow": null,
            "overflow_x": null,
            "overflow_y": null,
            "padding": null,
            "right": null,
            "top": null,
            "visibility": null,
            "width": null
          }
        },
        "0d1feda1c5d3422daf82f6e96953c5c4": {
          "model_module": "@jupyter-widgets/controls",
          "model_name": "ProgressStyleModel",
          "model_module_version": "1.5.0",
          "state": {
            "_model_module": "@jupyter-widgets/controls",
            "_model_module_version": "1.5.0",
            "_model_name": "ProgressStyleModel",
            "_view_count": null,
            "_view_module": "@jupyter-widgets/base",
            "_view_module_version": "1.2.0",
            "_view_name": "StyleView",
            "bar_color": null,
            "description_width": ""
          }
        },
        "149498df2c0e460e86d5101697c95406": {
          "model_module": "@jupyter-widgets/base",
          "model_name": "LayoutModel",
          "model_module_version": "1.2.0",
          "state": {
            "_model_module": "@jupyter-widgets/base",
            "_model_module_version": "1.2.0",
            "_model_name": "LayoutModel",
            "_view_count": null,
            "_view_module": "@jupyter-widgets/base",
            "_view_module_version": "1.2.0",
            "_view_name": "LayoutView",
            "align_content": null,
            "align_items": null,
            "align_self": null,
            "border": null,
            "bottom": null,
            "display": null,
            "flex": null,
            "flex_flow": null,
            "grid_area": null,
            "grid_auto_columns": null,
            "grid_auto_flow": null,
            "grid_auto_rows": null,
            "grid_column": null,
            "grid_gap": null,
            "grid_row": null,
            "grid_template_areas": null,
            "grid_template_columns": null,
            "grid_template_rows": null,
            "height": null,
            "justify_content": null,
            "justify_items": null,
            "left": null,
            "margin": null,
            "max_height": null,
            "max_width": null,
            "min_height": null,
            "min_width": null,
            "object_fit": null,
            "object_position": null,
            "order": null,
            "overflow": null,
            "overflow_x": null,
            "overflow_y": null,
            "padding": null,
            "right": null,
            "top": null,
            "visibility": null,
            "width": null
          }
        },
        "c55d9a44edf04c789962cdb894d76cc1": {
          "model_module": "@jupyter-widgets/controls",
          "model_name": "DescriptionStyleModel",
          "model_module_version": "1.5.0",
          "state": {
            "_model_module": "@jupyter-widgets/controls",
            "_model_module_version": "1.5.0",
            "_model_name": "DescriptionStyleModel",
            "_view_count": null,
            "_view_module": "@jupyter-widgets/base",
            "_view_module_version": "1.2.0",
            "_view_name": "StyleView",
            "description_width": ""
          }
        },
        "b5d80b6b0d7c4e41b3af85de418af683": {
          "model_module": "@jupyter-widgets/controls",
          "model_name": "HBoxModel",
          "model_module_version": "1.5.0",
          "state": {
            "_dom_classes": [],
            "_model_module": "@jupyter-widgets/controls",
            "_model_module_version": "1.5.0",
            "_model_name": "HBoxModel",
            "_view_count": null,
            "_view_module": "@jupyter-widgets/controls",
            "_view_module_version": "1.5.0",
            "_view_name": "HBoxView",
            "box_style": "",
            "children": [
              "IPY_MODEL_c1a0248c90484d939c05aba6d343cf20",
              "IPY_MODEL_5ca33776b0dd46e9bc028ec9f79e737a",
              "IPY_MODEL_9ea76705b0314f73a0ac515aa298033b"
            ],
            "layout": "IPY_MODEL_19d31fa8a4034b30bd07f843b1469ca4"
          }
        },
        "c1a0248c90484d939c05aba6d343cf20": {
          "model_module": "@jupyter-widgets/controls",
          "model_name": "HTMLModel",
          "model_module_version": "1.5.0",
          "state": {
            "_dom_classes": [],
            "_model_module": "@jupyter-widgets/controls",
            "_model_module_version": "1.5.0",
            "_model_name": "HTMLModel",
            "_view_count": null,
            "_view_module": "@jupyter-widgets/controls",
            "_view_module_version": "1.5.0",
            "_view_name": "HTMLView",
            "description": "",
            "description_tooltip": null,
            "layout": "IPY_MODEL_2d2212a92b93452596b4a4f847af64c1",
            "placeholder": "​",
            "style": "IPY_MODEL_2cfe7aca7d574d22ae633b89aca8a0cf",
            "value": "100%"
          }
        },
        "5ca33776b0dd46e9bc028ec9f79e737a": {
          "model_module": "@jupyter-widgets/controls",
          "model_name": "FloatProgressModel",
          "model_module_version": "1.5.0",
          "state": {
            "_dom_classes": [],
            "_model_module": "@jupyter-widgets/controls",
            "_model_module_version": "1.5.0",
            "_model_name": "FloatProgressModel",
            "_view_count": null,
            "_view_module": "@jupyter-widgets/controls",
            "_view_module_version": "1.5.0",
            "_view_name": "ProgressView",
            "bar_style": "success",
            "description": "",
            "description_tooltip": null,
            "layout": "IPY_MODEL_907898fcf65c4ad2866515b3f56831ac",
            "max": 102530333,
            "min": 0,
            "orientation": "horizontal",
            "style": "IPY_MODEL_79f2ec21c1754764b4befc3f0e0fd811",
            "value": 102530333
          }
        },
        "9ea76705b0314f73a0ac515aa298033b": {
          "model_module": "@jupyter-widgets/controls",
          "model_name": "HTMLModel",
          "model_module_version": "1.5.0",
          "state": {
            "_dom_classes": [],
            "_model_module": "@jupyter-widgets/controls",
            "_model_module_version": "1.5.0",
            "_model_name": "HTMLModel",
            "_view_count": null,
            "_view_module": "@jupyter-widgets/controls",
            "_view_module_version": "1.5.0",
            "_view_name": "HTMLView",
            "description": "",
            "description_tooltip": null,
            "layout": "IPY_MODEL_5ffa4e29d50f458b9d28253275b8b780",
            "placeholder": "​",
            "style": "IPY_MODEL_9d7e1fe0e6fa40ef84e0c5b0ed4c47a8",
            "value": " 97.8M/97.8M [00:01&lt;00:00, 85.8MB/s]"
          }
        },
        "19d31fa8a4034b30bd07f843b1469ca4": {
          "model_module": "@jupyter-widgets/base",
          "model_name": "LayoutModel",
          "model_module_version": "1.2.0",
          "state": {
            "_model_module": "@jupyter-widgets/base",
            "_model_module_version": "1.2.0",
            "_model_name": "LayoutModel",
            "_view_count": null,
            "_view_module": "@jupyter-widgets/base",
            "_view_module_version": "1.2.0",
            "_view_name": "LayoutView",
            "align_content": null,
            "align_items": null,
            "align_self": null,
            "border": null,
            "bottom": null,
            "display": null,
            "flex": null,
            "flex_flow": null,
            "grid_area": null,
            "grid_auto_columns": null,
            "grid_auto_flow": null,
            "grid_auto_rows": null,
            "grid_column": null,
            "grid_gap": null,
            "grid_row": null,
            "grid_template_areas": null,
            "grid_template_columns": null,
            "grid_template_rows": null,
            "height": null,
            "justify_content": null,
            "justify_items": null,
            "left": null,
            "margin": null,
            "max_height": null,
            "max_width": null,
            "min_height": null,
            "min_width": null,
            "object_fit": null,
            "object_position": null,
            "order": null,
            "overflow": null,
            "overflow_x": null,
            "overflow_y": null,
            "padding": null,
            "right": null,
            "top": null,
            "visibility": null,
            "width": null
          }
        },
        "2d2212a92b93452596b4a4f847af64c1": {
          "model_module": "@jupyter-widgets/base",
          "model_name": "LayoutModel",
          "model_module_version": "1.2.0",
          "state": {
            "_model_module": "@jupyter-widgets/base",
            "_model_module_version": "1.2.0",
            "_model_name": "LayoutModel",
            "_view_count": null,
            "_view_module": "@jupyter-widgets/base",
            "_view_module_version": "1.2.0",
            "_view_name": "LayoutView",
            "align_content": null,
            "align_items": null,
            "align_self": null,
            "border": null,
            "bottom": null,
            "display": null,
            "flex": null,
            "flex_flow": null,
            "grid_area": null,
            "grid_auto_columns": null,
            "grid_auto_flow": null,
            "grid_auto_rows": null,
            "grid_column": null,
            "grid_gap": null,
            "grid_row": null,
            "grid_template_areas": null,
            "grid_template_columns": null,
            "grid_template_rows": null,
            "height": null,
            "justify_content": null,
            "justify_items": null,
            "left": null,
            "margin": null,
            "max_height": null,
            "max_width": null,
            "min_height": null,
            "min_width": null,
            "object_fit": null,
            "object_position": null,
            "order": null,
            "overflow": null,
            "overflow_x": null,
            "overflow_y": null,
            "padding": null,
            "right": null,
            "top": null,
            "visibility": null,
            "width": null
          }
        },
        "2cfe7aca7d574d22ae633b89aca8a0cf": {
          "model_module": "@jupyter-widgets/controls",
          "model_name": "DescriptionStyleModel",
          "model_module_version": "1.5.0",
          "state": {
            "_model_module": "@jupyter-widgets/controls",
            "_model_module_version": "1.5.0",
            "_model_name": "DescriptionStyleModel",
            "_view_count": null,
            "_view_module": "@jupyter-widgets/base",
            "_view_module_version": "1.2.0",
            "_view_name": "StyleView",
            "description_width": ""
          }
        },
        "907898fcf65c4ad2866515b3f56831ac": {
          "model_module": "@jupyter-widgets/base",
          "model_name": "LayoutModel",
          "model_module_version": "1.2.0",
          "state": {
            "_model_module": "@jupyter-widgets/base",
            "_model_module_version": "1.2.0",
            "_model_name": "LayoutModel",
            "_view_count": null,
            "_view_module": "@jupyter-widgets/base",
            "_view_module_version": "1.2.0",
            "_view_name": "LayoutView",
            "align_content": null,
            "align_items": null,
            "align_self": null,
            "border": null,
            "bottom": null,
            "display": null,
            "flex": null,
            "flex_flow": null,
            "grid_area": null,
            "grid_auto_columns": null,
            "grid_auto_flow": null,
            "grid_auto_rows": null,
            "grid_column": null,
            "grid_gap": null,
            "grid_row": null,
            "grid_template_areas": null,
            "grid_template_columns": null,
            "grid_template_rows": null,
            "height": null,
            "justify_content": null,
            "justify_items": null,
            "left": null,
            "margin": null,
            "max_height": null,
            "max_width": null,
            "min_height": null,
            "min_width": null,
            "object_fit": null,
            "object_position": null,
            "order": null,
            "overflow": null,
            "overflow_x": null,
            "overflow_y": null,
            "padding": null,
            "right": null,
            "top": null,
            "visibility": null,
            "width": null
          }
        },
        "79f2ec21c1754764b4befc3f0e0fd811": {
          "model_module": "@jupyter-widgets/controls",
          "model_name": "ProgressStyleModel",
          "model_module_version": "1.5.0",
          "state": {
            "_model_module": "@jupyter-widgets/controls",
            "_model_module_version": "1.5.0",
            "_model_name": "ProgressStyleModel",
            "_view_count": null,
            "_view_module": "@jupyter-widgets/base",
            "_view_module_version": "1.2.0",
            "_view_name": "StyleView",
            "bar_color": null,
            "description_width": ""
          }
        },
        "5ffa4e29d50f458b9d28253275b8b780": {
          "model_module": "@jupyter-widgets/base",
          "model_name": "LayoutModel",
          "model_module_version": "1.2.0",
          "state": {
            "_model_module": "@jupyter-widgets/base",
            "_model_module_version": "1.2.0",
            "_model_name": "LayoutModel",
            "_view_count": null,
            "_view_module": "@jupyter-widgets/base",
            "_view_module_version": "1.2.0",
            "_view_name": "LayoutView",
            "align_content": null,
            "align_items": null,
            "align_self": null,
            "border": null,
            "bottom": null,
            "display": null,
            "flex": null,
            "flex_flow": null,
            "grid_area": null,
            "grid_auto_columns": null,
            "grid_auto_flow": null,
            "grid_auto_rows": null,
            "grid_column": null,
            "grid_gap": null,
            "grid_row": null,
            "grid_template_areas": null,
            "grid_template_columns": null,
            "grid_template_rows": null,
            "height": null,
            "justify_content": null,
            "justify_items": null,
            "left": null,
            "margin": null,
            "max_height": null,
            "max_width": null,
            "min_height": null,
            "min_width": null,
            "object_fit": null,
            "object_position": null,
            "order": null,
            "overflow": null,
            "overflow_x": null,
            "overflow_y": null,
            "padding": null,
            "right": null,
            "top": null,
            "visibility": null,
            "width": null
          }
        },
        "9d7e1fe0e6fa40ef84e0c5b0ed4c47a8": {
          "model_module": "@jupyter-widgets/controls",
          "model_name": "DescriptionStyleModel",
          "model_module_version": "1.5.0",
          "state": {
            "_model_module": "@jupyter-widgets/controls",
            "_model_module_version": "1.5.0",
            "_model_name": "DescriptionStyleModel",
            "_view_count": null,
            "_view_module": "@jupyter-widgets/base",
            "_view_module_version": "1.2.0",
            "_view_name": "StyleView",
            "description_width": ""
          }
        },
        "f5d712434cd942c6bf7f35909f4ac0d5": {
          "model_module": "@jupyter-widgets/controls",
          "model_name": "HBoxModel",
          "model_module_version": "1.5.0",
          "state": {
            "_dom_classes": [],
            "_model_module": "@jupyter-widgets/controls",
            "_model_module_version": "1.5.0",
            "_model_name": "HBoxModel",
            "_view_count": null,
            "_view_module": "@jupyter-widgets/controls",
            "_view_module_version": "1.5.0",
            "_view_name": "HBoxView",
            "box_style": "",
            "children": [
              "IPY_MODEL_742e8c7d14ee4be1bec21e97ef6b9b70",
              "IPY_MODEL_7a2944f5fd1c4229bffd0afead9ff169",
              "IPY_MODEL_31bb95b0f7aa44af8e32e273c8a81f81"
            ],
            "layout": "IPY_MODEL_057f7857e3bd40b0bf7f70f773d2de60"
          }
        },
        "742e8c7d14ee4be1bec21e97ef6b9b70": {
          "model_module": "@jupyter-widgets/controls",
          "model_name": "HTMLModel",
          "model_module_version": "1.5.0",
          "state": {
            "_dom_classes": [],
            "_model_module": "@jupyter-widgets/controls",
            "_model_module_version": "1.5.0",
            "_model_name": "HTMLModel",
            "_view_count": null,
            "_view_module": "@jupyter-widgets/controls",
            "_view_module_version": "1.5.0",
            "_view_name": "HTMLView",
            "description": "",
            "description_tooltip": null,
            "layout": "IPY_MODEL_589e4363cd39437cb8ae9615764b3f67",
            "placeholder": "​",
            "style": "IPY_MODEL_7a0c883f3296448e99d30f62313ddbff",
            "value": "100%"
          }
        },
        "7a2944f5fd1c4229bffd0afead9ff169": {
          "model_module": "@jupyter-widgets/controls",
          "model_name": "FloatProgressModel",
          "model_module_version": "1.5.0",
          "state": {
            "_dom_classes": [],
            "_model_module": "@jupyter-widgets/controls",
            "_model_module_version": "1.5.0",
            "_model_name": "FloatProgressModel",
            "_view_count": null,
            "_view_module": "@jupyter-widgets/controls",
            "_view_module_version": "1.5.0",
            "_view_name": "ProgressView",
            "bar_style": "success",
            "description": "",
            "description_tooltip": null,
            "layout": "IPY_MODEL_10eecd00083140808069d31765cd81fd",
            "max": 170498071,
            "min": 0,
            "orientation": "horizontal",
            "style": "IPY_MODEL_1b2a278649f74d7d91a01fc8741c9d12",
            "value": 170498071
          }
        },
        "31bb95b0f7aa44af8e32e273c8a81f81": {
          "model_module": "@jupyter-widgets/controls",
          "model_name": "HTMLModel",
          "model_module_version": "1.5.0",
          "state": {
            "_dom_classes": [],
            "_model_module": "@jupyter-widgets/controls",
            "_model_module_version": "1.5.0",
            "_model_name": "HTMLModel",
            "_view_count": null,
            "_view_module": "@jupyter-widgets/controls",
            "_view_module_version": "1.5.0",
            "_view_name": "HTMLView",
            "description": "",
            "description_tooltip": null,
            "layout": "IPY_MODEL_f641d407c9e042eea732c0cb9195613d",
            "placeholder": "​",
            "style": "IPY_MODEL_b0e98e6191f14d08ac0eb2b9c45a0f8b",
            "value": " 170498071/170498071 [00:01&lt;00:00, 110050368.02it/s]"
          }
        },
        "057f7857e3bd40b0bf7f70f773d2de60": {
          "model_module": "@jupyter-widgets/base",
          "model_name": "LayoutModel",
          "model_module_version": "1.2.0",
          "state": {
            "_model_module": "@jupyter-widgets/base",
            "_model_module_version": "1.2.0",
            "_model_name": "LayoutModel",
            "_view_count": null,
            "_view_module": "@jupyter-widgets/base",
            "_view_module_version": "1.2.0",
            "_view_name": "LayoutView",
            "align_content": null,
            "align_items": null,
            "align_self": null,
            "border": null,
            "bottom": null,
            "display": null,
            "flex": null,
            "flex_flow": null,
            "grid_area": null,
            "grid_auto_columns": null,
            "grid_auto_flow": null,
            "grid_auto_rows": null,
            "grid_column": null,
            "grid_gap": null,
            "grid_row": null,
            "grid_template_areas": null,
            "grid_template_columns": null,
            "grid_template_rows": null,
            "height": null,
            "justify_content": null,
            "justify_items": null,
            "left": null,
            "margin": null,
            "max_height": null,
            "max_width": null,
            "min_height": null,
            "min_width": null,
            "object_fit": null,
            "object_position": null,
            "order": null,
            "overflow": null,
            "overflow_x": null,
            "overflow_y": null,
            "padding": null,
            "right": null,
            "top": null,
            "visibility": null,
            "width": null
          }
        },
        "589e4363cd39437cb8ae9615764b3f67": {
          "model_module": "@jupyter-widgets/base",
          "model_name": "LayoutModel",
          "model_module_version": "1.2.0",
          "state": {
            "_model_module": "@jupyter-widgets/base",
            "_model_module_version": "1.2.0",
            "_model_name": "LayoutModel",
            "_view_count": null,
            "_view_module": "@jupyter-widgets/base",
            "_view_module_version": "1.2.0",
            "_view_name": "LayoutView",
            "align_content": null,
            "align_items": null,
            "align_self": null,
            "border": null,
            "bottom": null,
            "display": null,
            "flex": null,
            "flex_flow": null,
            "grid_area": null,
            "grid_auto_columns": null,
            "grid_auto_flow": null,
            "grid_auto_rows": null,
            "grid_column": null,
            "grid_gap": null,
            "grid_row": null,
            "grid_template_areas": null,
            "grid_template_columns": null,
            "grid_template_rows": null,
            "height": null,
            "justify_content": null,
            "justify_items": null,
            "left": null,
            "margin": null,
            "max_height": null,
            "max_width": null,
            "min_height": null,
            "min_width": null,
            "object_fit": null,
            "object_position": null,
            "order": null,
            "overflow": null,
            "overflow_x": null,
            "overflow_y": null,
            "padding": null,
            "right": null,
            "top": null,
            "visibility": null,
            "width": null
          }
        },
        "7a0c883f3296448e99d30f62313ddbff": {
          "model_module": "@jupyter-widgets/controls",
          "model_name": "DescriptionStyleModel",
          "model_module_version": "1.5.0",
          "state": {
            "_model_module": "@jupyter-widgets/controls",
            "_model_module_version": "1.5.0",
            "_model_name": "DescriptionStyleModel",
            "_view_count": null,
            "_view_module": "@jupyter-widgets/base",
            "_view_module_version": "1.2.0",
            "_view_name": "StyleView",
            "description_width": ""
          }
        },
        "10eecd00083140808069d31765cd81fd": {
          "model_module": "@jupyter-widgets/base",
          "model_name": "LayoutModel",
          "model_module_version": "1.2.0",
          "state": {
            "_model_module": "@jupyter-widgets/base",
            "_model_module_version": "1.2.0",
            "_model_name": "LayoutModel",
            "_view_count": null,
            "_view_module": "@jupyter-widgets/base",
            "_view_module_version": "1.2.0",
            "_view_name": "LayoutView",
            "align_content": null,
            "align_items": null,
            "align_self": null,
            "border": null,
            "bottom": null,
            "display": null,
            "flex": null,
            "flex_flow": null,
            "grid_area": null,
            "grid_auto_columns": null,
            "grid_auto_flow": null,
            "grid_auto_rows": null,
            "grid_column": null,
            "grid_gap": null,
            "grid_row": null,
            "grid_template_areas": null,
            "grid_template_columns": null,
            "grid_template_rows": null,
            "height": null,
            "justify_content": null,
            "justify_items": null,
            "left": null,
            "margin": null,
            "max_height": null,
            "max_width": null,
            "min_height": null,
            "min_width": null,
            "object_fit": null,
            "object_position": null,
            "order": null,
            "overflow": null,
            "overflow_x": null,
            "overflow_y": null,
            "padding": null,
            "right": null,
            "top": null,
            "visibility": null,
            "width": null
          }
        },
        "1b2a278649f74d7d91a01fc8741c9d12": {
          "model_module": "@jupyter-widgets/controls",
          "model_name": "ProgressStyleModel",
          "model_module_version": "1.5.0",
          "state": {
            "_model_module": "@jupyter-widgets/controls",
            "_model_module_version": "1.5.0",
            "_model_name": "ProgressStyleModel",
            "_view_count": null,
            "_view_module": "@jupyter-widgets/base",
            "_view_module_version": "1.2.0",
            "_view_name": "StyleView",
            "bar_color": null,
            "description_width": ""
          }
        },
        "f641d407c9e042eea732c0cb9195613d": {
          "model_module": "@jupyter-widgets/base",
          "model_name": "LayoutModel",
          "model_module_version": "1.2.0",
          "state": {
            "_model_module": "@jupyter-widgets/base",
            "_model_module_version": "1.2.0",
            "_model_name": "LayoutModel",
            "_view_count": null,
            "_view_module": "@jupyter-widgets/base",
            "_view_module_version": "1.2.0",
            "_view_name": "LayoutView",
            "align_content": null,
            "align_items": null,
            "align_self": null,
            "border": null,
            "bottom": null,
            "display": null,
            "flex": null,
            "flex_flow": null,
            "grid_area": null,
            "grid_auto_columns": null,
            "grid_auto_flow": null,
            "grid_auto_rows": null,
            "grid_column": null,
            "grid_gap": null,
            "grid_row": null,
            "grid_template_areas": null,
            "grid_template_columns": null,
            "grid_template_rows": null,
            "height": null,
            "justify_content": null,
            "justify_items": null,
            "left": null,
            "margin": null,
            "max_height": null,
            "max_width": null,
            "min_height": null,
            "min_width": null,
            "object_fit": null,
            "object_position": null,
            "order": null,
            "overflow": null,
            "overflow_x": null,
            "overflow_y": null,
            "padding": null,
            "right": null,
            "top": null,
            "visibility": null,
            "width": null
          }
        },
        "b0e98e6191f14d08ac0eb2b9c45a0f8b": {
          "model_module": "@jupyter-widgets/controls",
          "model_name": "DescriptionStyleModel",
          "model_module_version": "1.5.0",
          "state": {
            "_model_module": "@jupyter-widgets/controls",
            "_model_module_version": "1.5.0",
            "_model_name": "DescriptionStyleModel",
            "_view_count": null,
            "_view_module": "@jupyter-widgets/base",
            "_view_module_version": "1.2.0",
            "_view_name": "StyleView",
            "description_width": ""
          }
        },
        "9f314a0c6b4d46f49ed8dd4744c69478": {
          "model_module": "@jupyter-widgets/controls",
          "model_name": "HBoxModel",
          "model_module_version": "1.5.0",
          "state": {
            "_dom_classes": [],
            "_model_module": "@jupyter-widgets/controls",
            "_model_module_version": "1.5.0",
            "_model_name": "HBoxModel",
            "_view_count": null,
            "_view_module": "@jupyter-widgets/controls",
            "_view_module_version": "1.5.0",
            "_view_name": "HBoxView",
            "box_style": "",
            "children": [
              "IPY_MODEL_52ac54e647644166987801c4e2bab37b",
              "IPY_MODEL_675afed3cfad41949ae54712c74fe25d",
              "IPY_MODEL_0f44ca0f93c045c8905e3e2b0e7db87d"
            ],
            "layout": "IPY_MODEL_92aa5fd7f4a147d39ea8da1b5436ad25"
          }
        },
        "52ac54e647644166987801c4e2bab37b": {
          "model_module": "@jupyter-widgets/controls",
          "model_name": "HTMLModel",
          "model_module_version": "1.5.0",
          "state": {
            "_dom_classes": [],
            "_model_module": "@jupyter-widgets/controls",
            "_model_module_version": "1.5.0",
            "_model_name": "HTMLModel",
            "_view_count": null,
            "_view_module": "@jupyter-widgets/controls",
            "_view_module_version": "1.5.0",
            "_view_name": "HTMLView",
            "description": "",
            "description_tooltip": null,
            "layout": "IPY_MODEL_4d2034e89f2b4ad696b53d500205951a",
            "placeholder": "​",
            "style": "IPY_MODEL_101851cad4c6488d9da4986ada2e959f",
            "value": "100%"
          }
        },
        "675afed3cfad41949ae54712c74fe25d": {
          "model_module": "@jupyter-widgets/controls",
          "model_name": "FloatProgressModel",
          "model_module_version": "1.5.0",
          "state": {
            "_dom_classes": [],
            "_model_module": "@jupyter-widgets/controls",
            "_model_module_version": "1.5.0",
            "_model_name": "FloatProgressModel",
            "_view_count": null,
            "_view_module": "@jupyter-widgets/controls",
            "_view_module_version": "1.5.0",
            "_view_name": "ProgressView",
            "bar_style": "success",
            "description": "",
            "description_tooltip": null,
            "layout": "IPY_MODEL_ba1946eacaa24fc0a0952f6eb17151ee",
            "max": 170498071,
            "min": 0,
            "orientation": "horizontal",
            "style": "IPY_MODEL_8e0b718ee434409c97329a30d8141e97",
            "value": 170498071
          }
        },
        "0f44ca0f93c045c8905e3e2b0e7db87d": {
          "model_module": "@jupyter-widgets/controls",
          "model_name": "HTMLModel",
          "model_module_version": "1.5.0",
          "state": {
            "_dom_classes": [],
            "_model_module": "@jupyter-widgets/controls",
            "_model_module_version": "1.5.0",
            "_model_name": "HTMLModel",
            "_view_count": null,
            "_view_module": "@jupyter-widgets/controls",
            "_view_module_version": "1.5.0",
            "_view_name": "HTMLView",
            "description": "",
            "description_tooltip": null,
            "layout": "IPY_MODEL_1d1d69b6c42c40e78adf36c9a4de8cdb",
            "placeholder": "​",
            "style": "IPY_MODEL_fcafd34f7b244e889069bb7d0e06862e",
            "value": " 170498071/170498071 [00:01&lt;00:00, 99344769.79it/s]"
          }
        },
        "92aa5fd7f4a147d39ea8da1b5436ad25": {
          "model_module": "@jupyter-widgets/base",
          "model_name": "LayoutModel",
          "model_module_version": "1.2.0",
          "state": {
            "_model_module": "@jupyter-widgets/base",
            "_model_module_version": "1.2.0",
            "_model_name": "LayoutModel",
            "_view_count": null,
            "_view_module": "@jupyter-widgets/base",
            "_view_module_version": "1.2.0",
            "_view_name": "LayoutView",
            "align_content": null,
            "align_items": null,
            "align_self": null,
            "border": null,
            "bottom": null,
            "display": null,
            "flex": null,
            "flex_flow": null,
            "grid_area": null,
            "grid_auto_columns": null,
            "grid_auto_flow": null,
            "grid_auto_rows": null,
            "grid_column": null,
            "grid_gap": null,
            "grid_row": null,
            "grid_template_areas": null,
            "grid_template_columns": null,
            "grid_template_rows": null,
            "height": null,
            "justify_content": null,
            "justify_items": null,
            "left": null,
            "margin": null,
            "max_height": null,
            "max_width": null,
            "min_height": null,
            "min_width": null,
            "object_fit": null,
            "object_position": null,
            "order": null,
            "overflow": null,
            "overflow_x": null,
            "overflow_y": null,
            "padding": null,
            "right": null,
            "top": null,
            "visibility": null,
            "width": null
          }
        },
        "4d2034e89f2b4ad696b53d500205951a": {
          "model_module": "@jupyter-widgets/base",
          "model_name": "LayoutModel",
          "model_module_version": "1.2.0",
          "state": {
            "_model_module": "@jupyter-widgets/base",
            "_model_module_version": "1.2.0",
            "_model_name": "LayoutModel",
            "_view_count": null,
            "_view_module": "@jupyter-widgets/base",
            "_view_module_version": "1.2.0",
            "_view_name": "LayoutView",
            "align_content": null,
            "align_items": null,
            "align_self": null,
            "border": null,
            "bottom": null,
            "display": null,
            "flex": null,
            "flex_flow": null,
            "grid_area": null,
            "grid_auto_columns": null,
            "grid_auto_flow": null,
            "grid_auto_rows": null,
            "grid_column": null,
            "grid_gap": null,
            "grid_row": null,
            "grid_template_areas": null,
            "grid_template_columns": null,
            "grid_template_rows": null,
            "height": null,
            "justify_content": null,
            "justify_items": null,
            "left": null,
            "margin": null,
            "max_height": null,
            "max_width": null,
            "min_height": null,
            "min_width": null,
            "object_fit": null,
            "object_position": null,
            "order": null,
            "overflow": null,
            "overflow_x": null,
            "overflow_y": null,
            "padding": null,
            "right": null,
            "top": null,
            "visibility": null,
            "width": null
          }
        },
        "101851cad4c6488d9da4986ada2e959f": {
          "model_module": "@jupyter-widgets/controls",
          "model_name": "DescriptionStyleModel",
          "model_module_version": "1.5.0",
          "state": {
            "_model_module": "@jupyter-widgets/controls",
            "_model_module_version": "1.5.0",
            "_model_name": "DescriptionStyleModel",
            "_view_count": null,
            "_view_module": "@jupyter-widgets/base",
            "_view_module_version": "1.2.0",
            "_view_name": "StyleView",
            "description_width": ""
          }
        },
        "ba1946eacaa24fc0a0952f6eb17151ee": {
          "model_module": "@jupyter-widgets/base",
          "model_name": "LayoutModel",
          "model_module_version": "1.2.0",
          "state": {
            "_model_module": "@jupyter-widgets/base",
            "_model_module_version": "1.2.0",
            "_model_name": "LayoutModel",
            "_view_count": null,
            "_view_module": "@jupyter-widgets/base",
            "_view_module_version": "1.2.0",
            "_view_name": "LayoutView",
            "align_content": null,
            "align_items": null,
            "align_self": null,
            "border": null,
            "bottom": null,
            "display": null,
            "flex": null,
            "flex_flow": null,
            "grid_area": null,
            "grid_auto_columns": null,
            "grid_auto_flow": null,
            "grid_auto_rows": null,
            "grid_column": null,
            "grid_gap": null,
            "grid_row": null,
            "grid_template_areas": null,
            "grid_template_columns": null,
            "grid_template_rows": null,
            "height": null,
            "justify_content": null,
            "justify_items": null,
            "left": null,
            "margin": null,
            "max_height": null,
            "max_width": null,
            "min_height": null,
            "min_width": null,
            "object_fit": null,
            "object_position": null,
            "order": null,
            "overflow": null,
            "overflow_x": null,
            "overflow_y": null,
            "padding": null,
            "right": null,
            "top": null,
            "visibility": null,
            "width": null
          }
        },
        "8e0b718ee434409c97329a30d8141e97": {
          "model_module": "@jupyter-widgets/controls",
          "model_name": "ProgressStyleModel",
          "model_module_version": "1.5.0",
          "state": {
            "_model_module": "@jupyter-widgets/controls",
            "_model_module_version": "1.5.0",
            "_model_name": "ProgressStyleModel",
            "_view_count": null,
            "_view_module": "@jupyter-widgets/base",
            "_view_module_version": "1.2.0",
            "_view_name": "StyleView",
            "bar_color": null,
            "description_width": ""
          }
        },
        "1d1d69b6c42c40e78adf36c9a4de8cdb": {
          "model_module": "@jupyter-widgets/base",
          "model_name": "LayoutModel",
          "model_module_version": "1.2.0",
          "state": {
            "_model_module": "@jupyter-widgets/base",
            "_model_module_version": "1.2.0",
            "_model_name": "LayoutModel",
            "_view_count": null,
            "_view_module": "@jupyter-widgets/base",
            "_view_module_version": "1.2.0",
            "_view_name": "LayoutView",
            "align_content": null,
            "align_items": null,
            "align_self": null,
            "border": null,
            "bottom": null,
            "display": null,
            "flex": null,
            "flex_flow": null,
            "grid_area": null,
            "grid_auto_columns": null,
            "grid_auto_flow": null,
            "grid_auto_rows": null,
            "grid_column": null,
            "grid_gap": null,
            "grid_row": null,
            "grid_template_areas": null,
            "grid_template_columns": null,
            "grid_template_rows": null,
            "height": null,
            "justify_content": null,
            "justify_items": null,
            "left": null,
            "margin": null,
            "max_height": null,
            "max_width": null,
            "min_height": null,
            "min_width": null,
            "object_fit": null,
            "object_position": null,
            "order": null,
            "overflow": null,
            "overflow_x": null,
            "overflow_y": null,
            "padding": null,
            "right": null,
            "top": null,
            "visibility": null,
            "width": null
          }
        },
        "fcafd34f7b244e889069bb7d0e06862e": {
          "model_module": "@jupyter-widgets/controls",
          "model_name": "DescriptionStyleModel",
          "model_module_version": "1.5.0",
          "state": {
            "_model_module": "@jupyter-widgets/controls",
            "_model_module_version": "1.5.0",
            "_model_name": "DescriptionStyleModel",
            "_view_count": null,
            "_view_module": "@jupyter-widgets/base",
            "_view_module_version": "1.2.0",
            "_view_name": "StyleView",
            "description_width": ""
          }
        },
        "d9fec15447f248ae8bfb5371b6117f5b": {
          "model_module": "@jupyter-widgets/controls",
          "model_name": "HBoxModel",
          "model_module_version": "1.5.0",
          "state": {
            "_dom_classes": [],
            "_model_module": "@jupyter-widgets/controls",
            "_model_module_version": "1.5.0",
            "_model_name": "HBoxModel",
            "_view_count": null,
            "_view_module": "@jupyter-widgets/controls",
            "_view_module_version": "1.5.0",
            "_view_name": "HBoxView",
            "box_style": "",
            "children": [
              "IPY_MODEL_145ac64fc50b4ecbbf032cbf1ffb58b9",
              "IPY_MODEL_607002dbebdf4e958c2da310ed961fd7",
              "IPY_MODEL_027fa409634b44ec803c2c20040fbd87"
            ],
            "layout": "IPY_MODEL_aeba6d4f6b104f428481b5635a00205c"
          }
        },
        "145ac64fc50b4ecbbf032cbf1ffb58b9": {
          "model_module": "@jupyter-widgets/controls",
          "model_name": "HTMLModel",
          "model_module_version": "1.5.0",
          "state": {
            "_dom_classes": [],
            "_model_module": "@jupyter-widgets/controls",
            "_model_module_version": "1.5.0",
            "_model_name": "HTMLModel",
            "_view_count": null,
            "_view_module": "@jupyter-widgets/controls",
            "_view_module_version": "1.5.0",
            "_view_name": "HTMLView",
            "description": "",
            "description_tooltip": null,
            "layout": "IPY_MODEL_f14d02561e4945d5b98d1e6f8e4f1a51",
            "placeholder": "​",
            "style": "IPY_MODEL_4b3ab407bb38486ba4c8894a2a4f9a58",
            "value": "100%"
          }
        },
        "607002dbebdf4e958c2da310ed961fd7": {
          "model_module": "@jupyter-widgets/controls",
          "model_name": "FloatProgressModel",
          "model_module_version": "1.5.0",
          "state": {
            "_dom_classes": [],
            "_model_module": "@jupyter-widgets/controls",
            "_model_module_version": "1.5.0",
            "_model_name": "FloatProgressModel",
            "_view_count": null,
            "_view_module": "@jupyter-widgets/controls",
            "_view_module_version": "1.5.0",
            "_view_name": "ProgressView",
            "bar_style": "success",
            "description": "",
            "description_tooltip": null,
            "layout": "IPY_MODEL_0877ca025ac142d8b5ed296fa0e9454a",
            "max": 102530333,
            "min": 0,
            "orientation": "horizontal",
            "style": "IPY_MODEL_3eece2cc0ef94b6797fc0e1e632cf191",
            "value": 102530333
          }
        },
        "027fa409634b44ec803c2c20040fbd87": {
          "model_module": "@jupyter-widgets/controls",
          "model_name": "HTMLModel",
          "model_module_version": "1.5.0",
          "state": {
            "_dom_classes": [],
            "_model_module": "@jupyter-widgets/controls",
            "_model_module_version": "1.5.0",
            "_model_name": "HTMLModel",
            "_view_count": null,
            "_view_module": "@jupyter-widgets/controls",
            "_view_module_version": "1.5.0",
            "_view_name": "HTMLView",
            "description": "",
            "description_tooltip": null,
            "layout": "IPY_MODEL_f174591fe52b449ba29ef8f7ad64ce4b",
            "placeholder": "​",
            "style": "IPY_MODEL_678b07d758e84a8481f4054fcc269709",
            "value": " 97.8M/97.8M [00:00&lt;00:00, 223MB/s]"
          }
        },
        "aeba6d4f6b104f428481b5635a00205c": {
          "model_module": "@jupyter-widgets/base",
          "model_name": "LayoutModel",
          "model_module_version": "1.2.0",
          "state": {
            "_model_module": "@jupyter-widgets/base",
            "_model_module_version": "1.2.0",
            "_model_name": "LayoutModel",
            "_view_count": null,
            "_view_module": "@jupyter-widgets/base",
            "_view_module_version": "1.2.0",
            "_view_name": "LayoutView",
            "align_content": null,
            "align_items": null,
            "align_self": null,
            "border": null,
            "bottom": null,
            "display": null,
            "flex": null,
            "flex_flow": null,
            "grid_area": null,
            "grid_auto_columns": null,
            "grid_auto_flow": null,
            "grid_auto_rows": null,
            "grid_column": null,
            "grid_gap": null,
            "grid_row": null,
            "grid_template_areas": null,
            "grid_template_columns": null,
            "grid_template_rows": null,
            "height": null,
            "justify_content": null,
            "justify_items": null,
            "left": null,
            "margin": null,
            "max_height": null,
            "max_width": null,
            "min_height": null,
            "min_width": null,
            "object_fit": null,
            "object_position": null,
            "order": null,
            "overflow": null,
            "overflow_x": null,
            "overflow_y": null,
            "padding": null,
            "right": null,
            "top": null,
            "visibility": null,
            "width": null
          }
        },
        "f14d02561e4945d5b98d1e6f8e4f1a51": {
          "model_module": "@jupyter-widgets/base",
          "model_name": "LayoutModel",
          "model_module_version": "1.2.0",
          "state": {
            "_model_module": "@jupyter-widgets/base",
            "_model_module_version": "1.2.0",
            "_model_name": "LayoutModel",
            "_view_count": null,
            "_view_module": "@jupyter-widgets/base",
            "_view_module_version": "1.2.0",
            "_view_name": "LayoutView",
            "align_content": null,
            "align_items": null,
            "align_self": null,
            "border": null,
            "bottom": null,
            "display": null,
            "flex": null,
            "flex_flow": null,
            "grid_area": null,
            "grid_auto_columns": null,
            "grid_auto_flow": null,
            "grid_auto_rows": null,
            "grid_column": null,
            "grid_gap": null,
            "grid_row": null,
            "grid_template_areas": null,
            "grid_template_columns": null,
            "grid_template_rows": null,
            "height": null,
            "justify_content": null,
            "justify_items": null,
            "left": null,
            "margin": null,
            "max_height": null,
            "max_width": null,
            "min_height": null,
            "min_width": null,
            "object_fit": null,
            "object_position": null,
            "order": null,
            "overflow": null,
            "overflow_x": null,
            "overflow_y": null,
            "padding": null,
            "right": null,
            "top": null,
            "visibility": null,
            "width": null
          }
        },
        "4b3ab407bb38486ba4c8894a2a4f9a58": {
          "model_module": "@jupyter-widgets/controls",
          "model_name": "DescriptionStyleModel",
          "model_module_version": "1.5.0",
          "state": {
            "_model_module": "@jupyter-widgets/controls",
            "_model_module_version": "1.5.0",
            "_model_name": "DescriptionStyleModel",
            "_view_count": null,
            "_view_module": "@jupyter-widgets/base",
            "_view_module_version": "1.2.0",
            "_view_name": "StyleView",
            "description_width": ""
          }
        },
        "0877ca025ac142d8b5ed296fa0e9454a": {
          "model_module": "@jupyter-widgets/base",
          "model_name": "LayoutModel",
          "model_module_version": "1.2.0",
          "state": {
            "_model_module": "@jupyter-widgets/base",
            "_model_module_version": "1.2.0",
            "_model_name": "LayoutModel",
            "_view_count": null,
            "_view_module": "@jupyter-widgets/base",
            "_view_module_version": "1.2.0",
            "_view_name": "LayoutView",
            "align_content": null,
            "align_items": null,
            "align_self": null,
            "border": null,
            "bottom": null,
            "display": null,
            "flex": null,
            "flex_flow": null,
            "grid_area": null,
            "grid_auto_columns": null,
            "grid_auto_flow": null,
            "grid_auto_rows": null,
            "grid_column": null,
            "grid_gap": null,
            "grid_row": null,
            "grid_template_areas": null,
            "grid_template_columns": null,
            "grid_template_rows": null,
            "height": null,
            "justify_content": null,
            "justify_items": null,
            "left": null,
            "margin": null,
            "max_height": null,
            "max_width": null,
            "min_height": null,
            "min_width": null,
            "object_fit": null,
            "object_position": null,
            "order": null,
            "overflow": null,
            "overflow_x": null,
            "overflow_y": null,
            "padding": null,
            "right": null,
            "top": null,
            "visibility": null,
            "width": null
          }
        },
        "3eece2cc0ef94b6797fc0e1e632cf191": {
          "model_module": "@jupyter-widgets/controls",
          "model_name": "ProgressStyleModel",
          "model_module_version": "1.5.0",
          "state": {
            "_model_module": "@jupyter-widgets/controls",
            "_model_module_version": "1.5.0",
            "_model_name": "ProgressStyleModel",
            "_view_count": null,
            "_view_module": "@jupyter-widgets/base",
            "_view_module_version": "1.2.0",
            "_view_name": "StyleView",
            "bar_color": null,
            "description_width": ""
          }
        },
        "f174591fe52b449ba29ef8f7ad64ce4b": {
          "model_module": "@jupyter-widgets/base",
          "model_name": "LayoutModel",
          "model_module_version": "1.2.0",
          "state": {
            "_model_module": "@jupyter-widgets/base",
            "_model_module_version": "1.2.0",
            "_model_name": "LayoutModel",
            "_view_count": null,
            "_view_module": "@jupyter-widgets/base",
            "_view_module_version": "1.2.0",
            "_view_name": "LayoutView",
            "align_content": null,
            "align_items": null,
            "align_self": null,
            "border": null,
            "bottom": null,
            "display": null,
            "flex": null,
            "flex_flow": null,
            "grid_area": null,
            "grid_auto_columns": null,
            "grid_auto_flow": null,
            "grid_auto_rows": null,
            "grid_column": null,
            "grid_gap": null,
            "grid_row": null,
            "grid_template_areas": null,
            "grid_template_columns": null,
            "grid_template_rows": null,
            "height": null,
            "justify_content": null,
            "justify_items": null,
            "left": null,
            "margin": null,
            "max_height": null,
            "max_width": null,
            "min_height": null,
            "min_width": null,
            "object_fit": null,
            "object_position": null,
            "order": null,
            "overflow": null,
            "overflow_x": null,
            "overflow_y": null,
            "padding": null,
            "right": null,
            "top": null,
            "visibility": null,
            "width": null
          }
        },
        "678b07d758e84a8481f4054fcc269709": {
          "model_module": "@jupyter-widgets/controls",
          "model_name": "DescriptionStyleModel",
          "model_module_version": "1.5.0",
          "state": {
            "_model_module": "@jupyter-widgets/controls",
            "_model_module_version": "1.5.0",
            "_model_name": "DescriptionStyleModel",
            "_view_count": null,
            "_view_module": "@jupyter-widgets/base",
            "_view_module_version": "1.2.0",
            "_view_name": "StyleView",
            "description_width": ""
          }
        }
      }
    }
  },
  "nbformat": 4,
  "nbformat_minor": 0
}